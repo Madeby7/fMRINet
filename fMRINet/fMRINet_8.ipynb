{
 "cells": [
  {
   "cell_type": "code",
   "execution_count": 1,
   "metadata": {},
   "outputs": [],
   "source": [
    "import pandas as pd\n",
    "import numpy as np\n",
    "import pickle\n",
    "import matplotlib.pyplot as plt\n",
    "\n",
    "# --- Environment Setup ---y\n",
    "\n",
    "# Option 1: Using Anaconda\n",
    "# conda create --name tf python=3.10 anaconda \n",
    "# conda activate tf\n",
    "# pip install -r ../requirements.txt\n",
    "# Note: This installs an older version of TensorFlow since Anaconda \n",
    "# no longer maintains recent GPU packages. It still works reliably.\n",
    "\n",
    "# Option 2: Using Python venv\n",
    "# python3 -m venv .venv\n",
    "# source .venv/bin/activate\n",
    "# pip install -r ../requirements.txt\n",
    "\n",
    "from tensorflow.keras.callbacks import ModelCheckpoint, LearningRateScheduler\n",
    "from tensorflow.keras import utils as np_utils\n",
    "from fMRINet import fmriNet8, fmriNet16, fmriNet32\n",
    "\n",
    "\n",
    "import sklearn\n",
    "import tensorflow as tf\n",
    "\n",
    "# TensorFlow optimizers\n",
    "from tensorflow.keras.optimizers import AdamW\n",
    "\n",
    "\n",
    "# # AdamW lives in different places depending on TF version.\n",
    "# try:\n",
    "#     # TF ≥ 2.13\n",
    "#     from tensorflow.keras.optimizers import AdamW\n",
    "# except ImportError:\n",
    "#     try:\n",
    "#         # TF 2.11–2.12\n",
    "#         from tensorflow.keras.optimizers.experimental import AdamW\n",
    "#     except ImportError:\n",
    "#         # TF 2.10.x (requires tensorflow-addons)\n",
    "#         from tensorflow_addons.optimizers import AdamW\n",
    "\n",
    "# For compatibility with libraries such as iNNvestigate, \n",
    "# you may need to disable eager execution:\n",
    "# tf.compat.v1.disable_eager_execution()"
   ]
  },
  {
   "cell_type": "code",
   "execution_count": 2,
   "metadata": {},
   "outputs": [
    {
     "data": {
      "text/html": [
       "<div>\n",
       "<style scoped>\n",
       "    .dataframe tbody tr th:only-of-type {\n",
       "        vertical-align: middle;\n",
       "    }\n",
       "\n",
       "    .dataframe tbody tr th {\n",
       "        vertical-align: top;\n",
       "    }\n",
       "\n",
       "    .dataframe thead th {\n",
       "        text-align: right;\n",
       "    }\n",
       "</style>\n",
       "<table border=\"1\" class=\"dataframe\">\n",
       "  <thead>\n",
       "    <tr style=\"text-align: right;\">\n",
       "      <th></th>\n",
       "      <th>Task</th>\n",
       "      <th>Time_Series_Data</th>\n",
       "      <th>subject</th>\n",
       "      <th>session</th>\n",
       "    </tr>\n",
       "  </thead>\n",
       "  <tbody>\n",
       "    <tr>\n",
       "      <th>0</th>\n",
       "      <td>0</td>\n",
       "      <td>[[1.9457951942054184, 2.1243432446451473, 2.24...</td>\n",
       "      <td>2755j</td>\n",
       "      <td>4</td>\n",
       "    </tr>\n",
       "    <tr>\n",
       "      <th>1</th>\n",
       "      <td>0</td>\n",
       "      <td>[[2.0062126993459035, 1.1112578943817553, 2.87...</td>\n",
       "      <td>2755j</td>\n",
       "      <td>4</td>\n",
       "    </tr>\n",
       "    <tr>\n",
       "      <th>3</th>\n",
       "      <td>1</td>\n",
       "      <td>[[3.1558751679308363, 1.7991844301841418, 2.59...</td>\n",
       "      <td>1043f</td>\n",
       "      <td>3</td>\n",
       "    </tr>\n",
       "    <tr>\n",
       "      <th>5</th>\n",
       "      <td>1</td>\n",
       "      <td>[[1.779440351375669, 1.7387005028929754, 2.338...</td>\n",
       "      <td>4558a</td>\n",
       "      <td>1</td>\n",
       "    </tr>\n",
       "    <tr>\n",
       "      <th>7</th>\n",
       "      <td>2</td>\n",
       "      <td>[[0.11108687476175652, 1.7908513499100132, 0.4...</td>\n",
       "      <td>4662a</td>\n",
       "      <td>8</td>\n",
       "    </tr>\n",
       "  </tbody>\n",
       "</table>\n",
       "</div>"
      ],
      "text/plain": [
       "   Task                                   Time_Series_Data subject session\n",
       "0     0  [[1.9457951942054184, 2.1243432446451473, 2.24...   2755j       4\n",
       "1     0  [[2.0062126993459035, 1.1112578943817553, 2.87...   2755j       4\n",
       "3     1  [[3.1558751679308363, 1.7991844301841418, 2.59...   1043f       3\n",
       "5     1  [[1.779440351375669, 1.7387005028929754, 2.338...   4558a       1\n",
       "7     2  [[0.11108687476175652, 1.7908513499100132, 0.4...   4662a       8"
      ]
     },
     "execution_count": 2,
     "metadata": {},
     "output_type": "execute_result"
    }
   ],
   "source": [
    "# Load the DataFrame from the pickle file /-/ this is the toy dataframe ; for the actual data; please consider dataframe.pkl and get in touch with the author.\n",
    "\n",
    "\n",
    "#{'PVT': 0, 'VWM': 1, 'DOT': 2, 'MOD': 3, 'DYN': 4, 'rest': 5}\n",
    "df = pd.read_pickle('dataframe.pkl')\n",
    "\n",
    "# df.head()\n",
    "\n",
    "\n",
    "# #{'PVT': 0, 'VWM': 1, 'DOT': 2, 'MOD': 3, 'DYN': 4, 'rest': 5}\n",
    "# df = pd.read_pickle('dataframe.pkl')\n",
    "\n",
    "df.head()"
   ]
  },
  {
   "cell_type": "code",
   "execution_count": 3,
   "metadata": {},
   "outputs": [
    {
     "name": "stdout",
     "output_type": "stream",
     "text": [
      "TF version: 2.19.1\n",
      "Built with CUDA? False\n",
      "Visible GPUs: []\n"
     ]
    }
   ],
   "source": [
    "print(\"TF version:\", tf.__version__)\n",
    "print(\"Built with CUDA?\", tf.test.is_built_with_cuda())\n",
    "print(\"Visible GPUs:\", tf.config.list_physical_devices(\"GPU\"))"
   ]
  },
  {
   "cell_type": "code",
   "execution_count": 4,
   "metadata": {},
   "outputs": [],
   "source": [
    "# subjs = df[\"subject\"].unique()\n",
    "# np.random.shuffle(subjs) # do in-place shuffle\n",
    "\n",
    "# to work with the same train/validation splits while doing model development\n",
    "with open('subjs.pickle', 'rb') as f:\n",
    "    subjs = pickle.load(f)\n",
    "\n",
    "# pull train/valid data by taking subjects from shuffled list\n",
    "train_df = df[df['subject'].isin(subjs[0:45])]\n",
    "valid_df = df[df['subject'].isin(subjs[45:,])]\n",
    "\n",
    "# convert to numpy arrays and do reordering of data dimensions to feed into network\n",
    "train_label = np.array(train_df['Task'])\n",
    "\n",
    "train_data  = np.dstack(train_df['Time_Series_Data'])\n",
    "train_data  = np.expand_dims(train_data, axis=0)\n",
    "train_data  = np.transpose(train_data, axes=[3, 2, 1, 0]) # (batch, row, time, region)\n",
    "\n",
    "valid_label = np.array(valid_df['Task'])\n",
    "\n",
    "valid_data  = np.dstack(valid_df['Time_Series_Data'])\n",
    "valid_data  = np.expand_dims(valid_data, axis=0)\n",
    "valid_data  = np.transpose(valid_data, axes=[3, 2, 1, 0]) # (batch, row, time, region)"
   ]
  },
  {
   "cell_type": "code",
   "execution_count": 5,
   "metadata": {},
   "outputs": [],
   "source": [
    "train_label = np_utils.to_categorical(train_label)\n",
    "valid_label = np_utils.to_categorical(valid_label)\n"
   ]
  },
  {
   "cell_type": "code",
   "execution_count": 6,
   "metadata": {},
   "outputs": [
    {
     "name": "stdout",
     "output_type": "stream",
     "text": [
      "Validation data shape: (639, 214, 277, 1)\n",
      "Validation label shape: (639, 6)\n",
      "Files saved successfully:\n",
      "- valid_data.npy\n",
      "- valid_label.npy\n"
     ]
    }
   ],
   "source": [
    "np.save('valid_data.npy', valid_data)\n",
    "np.save('valid_label.npy', valid_label)\n",
    "\n",
    "print(f\"Validation data shape: {valid_data.shape}\")\n",
    "print(f\"Validation label shape: {valid_label.shape}\")\n",
    "print(\"Files saved successfully:\")\n",
    "print(\"- valid_data.npy\")\n",
    "print(\"- valid_label.npy\")"
   ]
  },
  {
   "cell_type": "code",
   "execution_count": 6,
   "metadata": {},
   "outputs": [
    {
     "data": {
      "text/plain": [
       "{0: np.float64(1.3031135531135531),\n",
       " 1: np.float64(0.8800247371675943),\n",
       " 2: np.float64(1.2417102966841187),\n",
       " 3: np.float64(0.9139370584457289),\n",
       " 4: np.float64(0.568063872255489),\n",
       " 5: np.float64(2.2914653784219)}"
      ]
     },
     "execution_count": 6,
     "metadata": {},
     "output_type": "execute_result"
    }
   ],
   "source": [
    "# calculate class weights for training data to use at training time\n",
    "train_label_v2 = np.argmax(train_label, axis=1)\n",
    "a, b           = np.unique(train_label_v2, return_counts=True)\n",
    "weights        = sklearn.utils.class_weight.compute_class_weight(class_weight='balanced', classes=a, y=train_label_v2)\n",
    "class_weights  = {0:weights[0], 1:weights[1], 2:weights[2], 3:weights[3], 4:weights[4], 5:weights[5]}\n",
    "class_weights"
   ]
  },
  {
   "cell_type": "code",
   "execution_count": 7,
   "metadata": {},
   "outputs": [
    {
     "data": {
      "text/html": [
       "<pre style=\"white-space:pre;overflow-x:auto;line-height:normal;font-family:Menlo,'DejaVu Sans Mono',consolas,'Courier New',monospace\"><span style=\"font-weight: bold\">Model: \"fmriNet8\"</span>\n",
       "</pre>\n"
      ],
      "text/plain": [
       "\u001b[1mModel: \"fmriNet8\"\u001b[0m\n"
      ]
     },
     "metadata": {},
     "output_type": "display_data"
    },
    {
     "data": {
      "text/html": [
       "<pre style=\"white-space:pre;overflow-x:auto;line-height:normal;font-family:Menlo,'DejaVu Sans Mono',consolas,'Courier New',monospace\">┏━━━━━━━━━━━━━━━━━━━━━━━━━━━━━━━━━┳━━━━━━━━━━━━━━━━━━━━━━━━┳━━━━━━━━━━━━━━━┓\n",
       "┃<span style=\"font-weight: bold\"> Layer (type)                    </span>┃<span style=\"font-weight: bold\"> Output Shape           </span>┃<span style=\"font-weight: bold\">       Param # </span>┃\n",
       "┡━━━━━━━━━━━━━━━━━━━━━━━━━━━━━━━━━╇━━━━━━━━━━━━━━━━━━━━━━━━╇━━━━━━━━━━━━━━━┩\n",
       "│ input_layer (<span style=\"color: #0087ff; text-decoration-color: #0087ff\">InputLayer</span>)        │ (<span style=\"color: #00d7ff; text-decoration-color: #00d7ff\">None</span>, <span style=\"color: #00af00; text-decoration-color: #00af00\">214</span>, <span style=\"color: #00af00; text-decoration-color: #00af00\">277</span>, <span style=\"color: #00af00; text-decoration-color: #00af00\">1</span>)    │             <span style=\"color: #00af00; text-decoration-color: #00af00\">0</span> │\n",
       "├─────────────────────────────────┼────────────────────────┼───────────────┤\n",
       "│ dropout (<span style=\"color: #0087ff; text-decoration-color: #0087ff\">Dropout</span>)               │ (<span style=\"color: #00d7ff; text-decoration-color: #00d7ff\">None</span>, <span style=\"color: #00af00; text-decoration-color: #00af00\">214</span>, <span style=\"color: #00af00; text-decoration-color: #00af00\">277</span>, <span style=\"color: #00af00; text-decoration-color: #00af00\">1</span>)    │             <span style=\"color: #00af00; text-decoration-color: #00af00\">0</span> │\n",
       "├─────────────────────────────────┼────────────────────────┼───────────────┤\n",
       "│ conv2d (<span style=\"color: #0087ff; text-decoration-color: #0087ff\">Conv2D</span>)                 │ (<span style=\"color: #00d7ff; text-decoration-color: #00d7ff\">None</span>, <span style=\"color: #00af00; text-decoration-color: #00af00\">214</span>, <span style=\"color: #00af00; text-decoration-color: #00af00\">277</span>, <span style=\"color: #00af00; text-decoration-color: #00af00\">8</span>)    │           <span style=\"color: #00af00; text-decoration-color: #00af00\">480</span> │\n",
       "├─────────────────────────────────┼────────────────────────┼───────────────┤\n",
       "│ permute (<span style=\"color: #0087ff; text-decoration-color: #0087ff\">Permute</span>)               │ (<span style=\"color: #00d7ff; text-decoration-color: #00d7ff\">None</span>, <span style=\"color: #00af00; text-decoration-color: #00af00\">277</span>, <span style=\"color: #00af00; text-decoration-color: #00af00\">214</span>, <span style=\"color: #00af00; text-decoration-color: #00af00\">8</span>)    │             <span style=\"color: #00af00; text-decoration-color: #00af00\">0</span> │\n",
       "├─────────────────────────────────┼────────────────────────┼───────────────┤\n",
       "│ depthwise_conv2d                │ (<span style=\"color: #00d7ff; text-decoration-color: #00d7ff\">None</span>, <span style=\"color: #00af00; text-decoration-color: #00af00\">277</span>, <span style=\"color: #00af00; text-decoration-color: #00af00\">1</span>, <span style=\"color: #00af00; text-decoration-color: #00af00\">32</span>)     │         <span style=\"color: #00af00; text-decoration-color: #00af00\">6,848</span> │\n",
       "│ (<span style=\"color: #0087ff; text-decoration-color: #0087ff\">DepthwiseConv2D</span>)               │                        │               │\n",
       "├─────────────────────────────────┼────────────────────────┼───────────────┤\n",
       "│ batch_normalization             │ (<span style=\"color: #00d7ff; text-decoration-color: #00d7ff\">None</span>, <span style=\"color: #00af00; text-decoration-color: #00af00\">277</span>, <span style=\"color: #00af00; text-decoration-color: #00af00\">1</span>, <span style=\"color: #00af00; text-decoration-color: #00af00\">32</span>)     │           <span style=\"color: #00af00; text-decoration-color: #00af00\">128</span> │\n",
       "│ (<span style=\"color: #0087ff; text-decoration-color: #0087ff\">BatchNormalization</span>)            │                        │               │\n",
       "├─────────────────────────────────┼────────────────────────┼───────────────┤\n",
       "│ activation (<span style=\"color: #0087ff; text-decoration-color: #0087ff\">Activation</span>)         │ (<span style=\"color: #00d7ff; text-decoration-color: #00d7ff\">None</span>, <span style=\"color: #00af00; text-decoration-color: #00af00\">277</span>, <span style=\"color: #00af00; text-decoration-color: #00af00\">1</span>, <span style=\"color: #00af00; text-decoration-color: #00af00\">32</span>)     │             <span style=\"color: #00af00; text-decoration-color: #00af00\">0</span> │\n",
       "├─────────────────────────────────┼────────────────────────┼───────────────┤\n",
       "│ permute_1 (<span style=\"color: #0087ff; text-decoration-color: #0087ff\">Permute</span>)             │ (<span style=\"color: #00d7ff; text-decoration-color: #00d7ff\">None</span>, <span style=\"color: #00af00; text-decoration-color: #00af00\">1</span>, <span style=\"color: #00af00; text-decoration-color: #00af00\">277</span>, <span style=\"color: #00af00; text-decoration-color: #00af00\">32</span>)     │             <span style=\"color: #00af00; text-decoration-color: #00af00\">0</span> │\n",
       "├─────────────────────────────────┼────────────────────────┼───────────────┤\n",
       "│ average_pooling2d               │ (<span style=\"color: #00d7ff; text-decoration-color: #00d7ff\">None</span>, <span style=\"color: #00af00; text-decoration-color: #00af00\">1</span>, <span style=\"color: #00af00; text-decoration-color: #00af00\">18</span>, <span style=\"color: #00af00; text-decoration-color: #00af00\">32</span>)      │             <span style=\"color: #00af00; text-decoration-color: #00af00\">0</span> │\n",
       "│ (<span style=\"color: #0087ff; text-decoration-color: #0087ff\">AveragePooling2D</span>)              │                        │               │\n",
       "├─────────────────────────────────┼────────────────────────┼───────────────┤\n",
       "│ dropout_1 (<span style=\"color: #0087ff; text-decoration-color: #0087ff\">Dropout</span>)             │ (<span style=\"color: #00d7ff; text-decoration-color: #00d7ff\">None</span>, <span style=\"color: #00af00; text-decoration-color: #00af00\">1</span>, <span style=\"color: #00af00; text-decoration-color: #00af00\">18</span>, <span style=\"color: #00af00; text-decoration-color: #00af00\">32</span>)      │             <span style=\"color: #00af00; text-decoration-color: #00af00\">0</span> │\n",
       "├─────────────────────────────────┼────────────────────────┼───────────────┤\n",
       "│ separable_conv2d                │ (<span style=\"color: #00d7ff; text-decoration-color: #00d7ff\">None</span>, <span style=\"color: #00af00; text-decoration-color: #00af00\">1</span>, <span style=\"color: #00af00; text-decoration-color: #00af00\">18</span>, <span style=\"color: #00af00; text-decoration-color: #00af00\">64</span>)      │         <span style=\"color: #00af00; text-decoration-color: #00af00\">2,304</span> │\n",
       "│ (<span style=\"color: #0087ff; text-decoration-color: #0087ff\">SeparableConv2D</span>)               │                        │               │\n",
       "├─────────────────────────────────┼────────────────────────┼───────────────┤\n",
       "│ batch_normalization_1           │ (<span style=\"color: #00d7ff; text-decoration-color: #00d7ff\">None</span>, <span style=\"color: #00af00; text-decoration-color: #00af00\">1</span>, <span style=\"color: #00af00; text-decoration-color: #00af00\">18</span>, <span style=\"color: #00af00; text-decoration-color: #00af00\">64</span>)      │           <span style=\"color: #00af00; text-decoration-color: #00af00\">256</span> │\n",
       "│ (<span style=\"color: #0087ff; text-decoration-color: #0087ff\">BatchNormalization</span>)            │                        │               │\n",
       "├─────────────────────────────────┼────────────────────────┼───────────────┤\n",
       "│ activation_1 (<span style=\"color: #0087ff; text-decoration-color: #0087ff\">Activation</span>)       │ (<span style=\"color: #00d7ff; text-decoration-color: #00d7ff\">None</span>, <span style=\"color: #00af00; text-decoration-color: #00af00\">1</span>, <span style=\"color: #00af00; text-decoration-color: #00af00\">18</span>, <span style=\"color: #00af00; text-decoration-color: #00af00\">64</span>)      │             <span style=\"color: #00af00; text-decoration-color: #00af00\">0</span> │\n",
       "├─────────────────────────────────┼────────────────────────┼───────────────┤\n",
       "│ average_pooling2d_1             │ (<span style=\"color: #00d7ff; text-decoration-color: #00d7ff\">None</span>, <span style=\"color: #00af00; text-decoration-color: #00af00\">1</span>, <span style=\"color: #00af00; text-decoration-color: #00af00\">4</span>, <span style=\"color: #00af00; text-decoration-color: #00af00\">64</span>)       │             <span style=\"color: #00af00; text-decoration-color: #00af00\">0</span> │\n",
       "│ (<span style=\"color: #0087ff; text-decoration-color: #0087ff\">AveragePooling2D</span>)              │                        │               │\n",
       "├─────────────────────────────────┼────────────────────────┼───────────────┤\n",
       "│ dropout_2 (<span style=\"color: #0087ff; text-decoration-color: #0087ff\">Dropout</span>)             │ (<span style=\"color: #00d7ff; text-decoration-color: #00d7ff\">None</span>, <span style=\"color: #00af00; text-decoration-color: #00af00\">1</span>, <span style=\"color: #00af00; text-decoration-color: #00af00\">4</span>, <span style=\"color: #00af00; text-decoration-color: #00af00\">64</span>)       │             <span style=\"color: #00af00; text-decoration-color: #00af00\">0</span> │\n",
       "├─────────────────────────────────┼────────────────────────┼───────────────┤\n",
       "│ flatten (<span style=\"color: #0087ff; text-decoration-color: #0087ff\">Flatten</span>)               │ (<span style=\"color: #00d7ff; text-decoration-color: #00d7ff\">None</span>, <span style=\"color: #00af00; text-decoration-color: #00af00\">256</span>)            │             <span style=\"color: #00af00; text-decoration-color: #00af00\">0</span> │\n",
       "├─────────────────────────────────┼────────────────────────┼───────────────┤\n",
       "│ dense (<span style=\"color: #0087ff; text-decoration-color: #0087ff\">Dense</span>)                   │ (<span style=\"color: #00d7ff; text-decoration-color: #00d7ff\">None</span>, <span style=\"color: #00af00; text-decoration-color: #00af00\">6</span>)              │         <span style=\"color: #00af00; text-decoration-color: #00af00\">1,542</span> │\n",
       "├─────────────────────────────────┼────────────────────────┼───────────────┤\n",
       "│ softmax (<span style=\"color: #0087ff; text-decoration-color: #0087ff\">Activation</span>)            │ (<span style=\"color: #00d7ff; text-decoration-color: #00d7ff\">None</span>, <span style=\"color: #00af00; text-decoration-color: #00af00\">6</span>)              │             <span style=\"color: #00af00; text-decoration-color: #00af00\">0</span> │\n",
       "└─────────────────────────────────┴────────────────────────┴───────────────┘\n",
       "</pre>\n"
      ],
      "text/plain": [
       "┏━━━━━━━━━━━━━━━━━━━━━━━━━━━━━━━━━┳━━━━━━━━━━━━━━━━━━━━━━━━┳━━━━━━━━━━━━━━━┓\n",
       "┃\u001b[1m \u001b[0m\u001b[1mLayer (type)                   \u001b[0m\u001b[1m \u001b[0m┃\u001b[1m \u001b[0m\u001b[1mOutput Shape          \u001b[0m\u001b[1m \u001b[0m┃\u001b[1m \u001b[0m\u001b[1m      Param #\u001b[0m\u001b[1m \u001b[0m┃\n",
       "┡━━━━━━━━━━━━━━━━━━━━━━━━━━━━━━━━━╇━━━━━━━━━━━━━━━━━━━━━━━━╇━━━━━━━━━━━━━━━┩\n",
       "│ input_layer (\u001b[38;5;33mInputLayer\u001b[0m)        │ (\u001b[38;5;45mNone\u001b[0m, \u001b[38;5;34m214\u001b[0m, \u001b[38;5;34m277\u001b[0m, \u001b[38;5;34m1\u001b[0m)    │             \u001b[38;5;34m0\u001b[0m │\n",
       "├─────────────────────────────────┼────────────────────────┼───────────────┤\n",
       "│ dropout (\u001b[38;5;33mDropout\u001b[0m)               │ (\u001b[38;5;45mNone\u001b[0m, \u001b[38;5;34m214\u001b[0m, \u001b[38;5;34m277\u001b[0m, \u001b[38;5;34m1\u001b[0m)    │             \u001b[38;5;34m0\u001b[0m │\n",
       "├─────────────────────────────────┼────────────────────────┼───────────────┤\n",
       "│ conv2d (\u001b[38;5;33mConv2D\u001b[0m)                 │ (\u001b[38;5;45mNone\u001b[0m, \u001b[38;5;34m214\u001b[0m, \u001b[38;5;34m277\u001b[0m, \u001b[38;5;34m8\u001b[0m)    │           \u001b[38;5;34m480\u001b[0m │\n",
       "├─────────────────────────────────┼────────────────────────┼───────────────┤\n",
       "│ permute (\u001b[38;5;33mPermute\u001b[0m)               │ (\u001b[38;5;45mNone\u001b[0m, \u001b[38;5;34m277\u001b[0m, \u001b[38;5;34m214\u001b[0m, \u001b[38;5;34m8\u001b[0m)    │             \u001b[38;5;34m0\u001b[0m │\n",
       "├─────────────────────────────────┼────────────────────────┼───────────────┤\n",
       "│ depthwise_conv2d                │ (\u001b[38;5;45mNone\u001b[0m, \u001b[38;5;34m277\u001b[0m, \u001b[38;5;34m1\u001b[0m, \u001b[38;5;34m32\u001b[0m)     │         \u001b[38;5;34m6,848\u001b[0m │\n",
       "│ (\u001b[38;5;33mDepthwiseConv2D\u001b[0m)               │                        │               │\n",
       "├─────────────────────────────────┼────────────────────────┼───────────────┤\n",
       "│ batch_normalization             │ (\u001b[38;5;45mNone\u001b[0m, \u001b[38;5;34m277\u001b[0m, \u001b[38;5;34m1\u001b[0m, \u001b[38;5;34m32\u001b[0m)     │           \u001b[38;5;34m128\u001b[0m │\n",
       "│ (\u001b[38;5;33mBatchNormalization\u001b[0m)            │                        │               │\n",
       "├─────────────────────────────────┼────────────────────────┼───────────────┤\n",
       "│ activation (\u001b[38;5;33mActivation\u001b[0m)         │ (\u001b[38;5;45mNone\u001b[0m, \u001b[38;5;34m277\u001b[0m, \u001b[38;5;34m1\u001b[0m, \u001b[38;5;34m32\u001b[0m)     │             \u001b[38;5;34m0\u001b[0m │\n",
       "├─────────────────────────────────┼────────────────────────┼───────────────┤\n",
       "│ permute_1 (\u001b[38;5;33mPermute\u001b[0m)             │ (\u001b[38;5;45mNone\u001b[0m, \u001b[38;5;34m1\u001b[0m, \u001b[38;5;34m277\u001b[0m, \u001b[38;5;34m32\u001b[0m)     │             \u001b[38;5;34m0\u001b[0m │\n",
       "├─────────────────────────────────┼────────────────────────┼───────────────┤\n",
       "│ average_pooling2d               │ (\u001b[38;5;45mNone\u001b[0m, \u001b[38;5;34m1\u001b[0m, \u001b[38;5;34m18\u001b[0m, \u001b[38;5;34m32\u001b[0m)      │             \u001b[38;5;34m0\u001b[0m │\n",
       "│ (\u001b[38;5;33mAveragePooling2D\u001b[0m)              │                        │               │\n",
       "├─────────────────────────────────┼────────────────────────┼───────────────┤\n",
       "│ dropout_1 (\u001b[38;5;33mDropout\u001b[0m)             │ (\u001b[38;5;45mNone\u001b[0m, \u001b[38;5;34m1\u001b[0m, \u001b[38;5;34m18\u001b[0m, \u001b[38;5;34m32\u001b[0m)      │             \u001b[38;5;34m0\u001b[0m │\n",
       "├─────────────────────────────────┼────────────────────────┼───────────────┤\n",
       "│ separable_conv2d                │ (\u001b[38;5;45mNone\u001b[0m, \u001b[38;5;34m1\u001b[0m, \u001b[38;5;34m18\u001b[0m, \u001b[38;5;34m64\u001b[0m)      │         \u001b[38;5;34m2,304\u001b[0m │\n",
       "│ (\u001b[38;5;33mSeparableConv2D\u001b[0m)               │                        │               │\n",
       "├─────────────────────────────────┼────────────────────────┼───────────────┤\n",
       "│ batch_normalization_1           │ (\u001b[38;5;45mNone\u001b[0m, \u001b[38;5;34m1\u001b[0m, \u001b[38;5;34m18\u001b[0m, \u001b[38;5;34m64\u001b[0m)      │           \u001b[38;5;34m256\u001b[0m │\n",
       "│ (\u001b[38;5;33mBatchNormalization\u001b[0m)            │                        │               │\n",
       "├─────────────────────────────────┼────────────────────────┼───────────────┤\n",
       "│ activation_1 (\u001b[38;5;33mActivation\u001b[0m)       │ (\u001b[38;5;45mNone\u001b[0m, \u001b[38;5;34m1\u001b[0m, \u001b[38;5;34m18\u001b[0m, \u001b[38;5;34m64\u001b[0m)      │             \u001b[38;5;34m0\u001b[0m │\n",
       "├─────────────────────────────────┼────────────────────────┼───────────────┤\n",
       "│ average_pooling2d_1             │ (\u001b[38;5;45mNone\u001b[0m, \u001b[38;5;34m1\u001b[0m, \u001b[38;5;34m4\u001b[0m, \u001b[38;5;34m64\u001b[0m)       │             \u001b[38;5;34m0\u001b[0m │\n",
       "│ (\u001b[38;5;33mAveragePooling2D\u001b[0m)              │                        │               │\n",
       "├─────────────────────────────────┼────────────────────────┼───────────────┤\n",
       "│ dropout_2 (\u001b[38;5;33mDropout\u001b[0m)             │ (\u001b[38;5;45mNone\u001b[0m, \u001b[38;5;34m1\u001b[0m, \u001b[38;5;34m4\u001b[0m, \u001b[38;5;34m64\u001b[0m)       │             \u001b[38;5;34m0\u001b[0m │\n",
       "├─────────────────────────────────┼────────────────────────┼───────────────┤\n",
       "│ flatten (\u001b[38;5;33mFlatten\u001b[0m)               │ (\u001b[38;5;45mNone\u001b[0m, \u001b[38;5;34m256\u001b[0m)            │             \u001b[38;5;34m0\u001b[0m │\n",
       "├─────────────────────────────────┼────────────────────────┼───────────────┤\n",
       "│ dense (\u001b[38;5;33mDense\u001b[0m)                   │ (\u001b[38;5;45mNone\u001b[0m, \u001b[38;5;34m6\u001b[0m)              │         \u001b[38;5;34m1,542\u001b[0m │\n",
       "├─────────────────────────────────┼────────────────────────┼───────────────┤\n",
       "│ softmax (\u001b[38;5;33mActivation\u001b[0m)            │ (\u001b[38;5;45mNone\u001b[0m, \u001b[38;5;34m6\u001b[0m)              │             \u001b[38;5;34m0\u001b[0m │\n",
       "└─────────────────────────────────┴────────────────────────┴───────────────┘\n"
      ]
     },
     "metadata": {},
     "output_type": "display_data"
    },
    {
     "data": {
      "text/html": [
       "<pre style=\"white-space:pre;overflow-x:auto;line-height:normal;font-family:Menlo,'DejaVu Sans Mono',consolas,'Courier New',monospace\"><span style=\"font-weight: bold\"> Total params: </span><span style=\"color: #00af00; text-decoration-color: #00af00\">11,558</span> (45.15 KB)\n",
       "</pre>\n"
      ],
      "text/plain": [
       "\u001b[1m Total params: \u001b[0m\u001b[38;5;34m11,558\u001b[0m (45.15 KB)\n"
      ]
     },
     "metadata": {},
     "output_type": "display_data"
    },
    {
     "data": {
      "text/html": [
       "<pre style=\"white-space:pre;overflow-x:auto;line-height:normal;font-family:Menlo,'DejaVu Sans Mono',consolas,'Courier New',monospace\"><span style=\"font-weight: bold\"> Trainable params: </span><span style=\"color: #00af00; text-decoration-color: #00af00\">11,366</span> (44.40 KB)\n",
       "</pre>\n"
      ],
      "text/plain": [
       "\u001b[1m Trainable params: \u001b[0m\u001b[38;5;34m11,366\u001b[0m (44.40 KB)\n"
      ]
     },
     "metadata": {},
     "output_type": "display_data"
    },
    {
     "data": {
      "text/html": [
       "<pre style=\"white-space:pre;overflow-x:auto;line-height:normal;font-family:Menlo,'DejaVu Sans Mono',consolas,'Courier New',monospace\"><span style=\"font-weight: bold\"> Non-trainable params: </span><span style=\"color: #00af00; text-decoration-color: #00af00\">192</span> (768.00 B)\n",
       "</pre>\n"
      ],
      "text/plain": [
       "\u001b[1m Non-trainable params: \u001b[0m\u001b[38;5;34m192\u001b[0m (768.00 B)\n"
      ]
     },
     "metadata": {},
     "output_type": "display_data"
    }
   ],
   "source": [
    "model = fmriNet8(num_classes=6, input_shape=(214, 277, 1), temporal_kernel_sec=60, fs=1.0)  # or fmriNet16(), fmriNet32()\n",
    "\n",
    "model.summary()"
   ]
  },
  {
   "cell_type": "code",
   "execution_count": 10,
   "metadata": {
    "scrolled": true
   },
   "outputs": [],
   "source": [
    "model.compile(loss='categorical_crossentropy', optimizer=AdamW(weight_decay=0.0005), \n",
    "              metrics = ['accuracy'])\n",
    "\n",
    "checkpointer = ModelCheckpoint(filepath='/tmp/checkpoint.h5', verbose=1,\n",
    "                               save_best_only=True)\n",
    "\n",
    "# simple learning rate schedule, half learning rate every 200 epochs\n",
    "# which seems to do ok for this data\n",
    "def lr_schedule(epoch):\n",
    "         return (0.001 * np.power(0.5, np.floor(epoch/200)))\n",
    "\n",
    "scheduler    = LearningRateScheduler(lr_schedule, verbose=1)"
   ]
  },
  {
   "cell_type": "code",
   "execution_count": 11,
   "metadata": {
    "scrolled": true
   },
   "outputs": [
    {
     "name": "stdout",
     "output_type": "stream",
     "text": [
      "Epoch 1/400\n",
      "\n",
      "Epoch 1: val_loss improved from None to 1.79390, saving model to /tmp/checkpoint.h5\n"
     ]
    },
    {
     "name": "stderr",
     "output_type": "stream",
     "text": [
      "WARNING:absl:You are saving your model as an HDF5 file via `model.save()` or `keras.saving.save_model(model)`. This file format is considered legacy. We recommend using instead the native Keras format, e.g. `model.save('my_model.keras')` or `keras.saving.save_model(model, 'my_model.keras')`. \n"
     ]
    },
    {
     "name": "stdout",
     "output_type": "stream",
     "text": [
      "45/45 - 16s - 345ms/step - accuracy: 0.1644 - loss: 2.0109 - val_accuracy: 0.1268 - val_loss: 1.7939\n",
      "Epoch 2/400\n",
      "\n",
      "Epoch 2: val_loss improved from 1.79390 to 1.79047, saving model to /tmp/checkpoint.h5\n"
     ]
    },
    {
     "name": "stderr",
     "output_type": "stream",
     "text": [
      "WARNING:absl:You are saving your model as an HDF5 file via `model.save()` or `keras.saving.save_model(model)`. This file format is considered legacy. We recommend using instead the native Keras format, e.g. `model.save('my_model.keras')` or `keras.saving.save_model(model, 'my_model.keras')`. \n"
     ]
    },
    {
     "name": "stdout",
     "output_type": "stream",
     "text": [
      "45/45 - 14s - 316ms/step - accuracy: 0.1725 - loss: 1.9497 - val_accuracy: 0.1596 - val_loss: 1.7905\n",
      "Epoch 3/400\n",
      "\n",
      "Epoch 3: val_loss improved from 1.79047 to 1.78030, saving model to /tmp/checkpoint.h5\n"
     ]
    },
    {
     "name": "stderr",
     "output_type": "stream",
     "text": [
      "WARNING:absl:You are saving your model as an HDF5 file via `model.save()` or `keras.saving.save_model(model)`. This file format is considered legacy. We recommend using instead the native Keras format, e.g. `model.save('my_model.keras')` or `keras.saving.save_model(model, 'my_model.keras')`. \n"
     ]
    },
    {
     "name": "stdout",
     "output_type": "stream",
     "text": [
      "45/45 - 14s - 315ms/step - accuracy: 0.2024 - loss: 1.8692 - val_accuracy: 0.2363 - val_loss: 1.7803\n",
      "Epoch 4/400\n",
      "\n",
      "Epoch 4: val_loss improved from 1.78030 to 1.75671, saving model to /tmp/checkpoint.h5\n"
     ]
    },
    {
     "name": "stderr",
     "output_type": "stream",
     "text": [
      "WARNING:absl:You are saving your model as an HDF5 file via `model.save()` or `keras.saving.save_model(model)`. This file format is considered legacy. We recommend using instead the native Keras format, e.g. `model.save('my_model.keras')` or `keras.saving.save_model(model, 'my_model.keras')`. \n"
     ]
    },
    {
     "name": "stdout",
     "output_type": "stream",
     "text": [
      "45/45 - 14s - 313ms/step - accuracy: 0.2347 - loss: 1.7920 - val_accuracy: 0.1987 - val_loss: 1.7567\n",
      "Epoch 5/400\n",
      "\n",
      "Epoch 5: val_loss improved from 1.75671 to 1.71669, saving model to /tmp/checkpoint.h5\n"
     ]
    },
    {
     "name": "stderr",
     "output_type": "stream",
     "text": [
      "WARNING:absl:You are saving your model as an HDF5 file via `model.save()` or `keras.saving.save_model(model)`. This file format is considered legacy. We recommend using instead the native Keras format, e.g. `model.save('my_model.keras')` or `keras.saving.save_model(model, 'my_model.keras')`. \n"
     ]
    },
    {
     "name": "stdout",
     "output_type": "stream",
     "text": [
      "45/45 - 14s - 317ms/step - accuracy: 0.2477 - loss: 1.7473 - val_accuracy: 0.2598 - val_loss: 1.7167\n",
      "Epoch 6/400\n",
      "\n",
      "Epoch 6: val_loss improved from 1.71669 to 1.65407, saving model to /tmp/checkpoint.h5\n"
     ]
    },
    {
     "name": "stderr",
     "output_type": "stream",
     "text": [
      "WARNING:absl:You are saving your model as an HDF5 file via `model.save()` or `keras.saving.save_model(model)`. This file format is considered legacy. We recommend using instead the native Keras format, e.g. `model.save('my_model.keras')` or `keras.saving.save_model(model, 'my_model.keras')`. \n"
     ]
    },
    {
     "name": "stdout",
     "output_type": "stream",
     "text": [
      "45/45 - 14s - 316ms/step - accuracy: 0.2994 - loss: 1.6656 - val_accuracy: 0.3505 - val_loss: 1.6541\n",
      "Epoch 7/400\n",
      "\n",
      "Epoch 7: val_loss improved from 1.65407 to 1.50430, saving model to /tmp/checkpoint.h5\n"
     ]
    },
    {
     "name": "stderr",
     "output_type": "stream",
     "text": [
      "WARNING:absl:You are saving your model as an HDF5 file via `model.save()` or `keras.saving.save_model(model)`. This file format is considered legacy. We recommend using instead the native Keras format, e.g. `model.save('my_model.keras')` or `keras.saving.save_model(model, 'my_model.keras')`. \n"
     ]
    },
    {
     "name": "stdout",
     "output_type": "stream",
     "text": [
      "45/45 - 14s - 318ms/step - accuracy: 0.3542 - loss: 1.5701 - val_accuracy: 0.4319 - val_loss: 1.5043\n",
      "Epoch 8/400\n",
      "\n",
      "Epoch 8: val_loss improved from 1.50430 to 1.37655, saving model to /tmp/checkpoint.h5\n"
     ]
    },
    {
     "name": "stderr",
     "output_type": "stream",
     "text": [
      "WARNING:absl:You are saving your model as an HDF5 file via `model.save()` or `keras.saving.save_model(model)`. This file format is considered legacy. We recommend using instead the native Keras format, e.g. `model.save('my_model.keras')` or `keras.saving.save_model(model, 'my_model.keras')`. \n"
     ]
    },
    {
     "name": "stdout",
     "output_type": "stream",
     "text": [
      "45/45 - 13s - 299ms/step - accuracy: 0.3840 - loss: 1.4801 - val_accuracy: 0.4710 - val_loss: 1.3766\n",
      "Epoch 9/400\n",
      "\n",
      "Epoch 9: val_loss improved from 1.37655 to 1.28456, saving model to /tmp/checkpoint.h5\n"
     ]
    },
    {
     "name": "stderr",
     "output_type": "stream",
     "text": [
      "WARNING:absl:You are saving your model as an HDF5 file via `model.save()` or `keras.saving.save_model(model)`. This file format is considered legacy. We recommend using instead the native Keras format, e.g. `model.save('my_model.keras')` or `keras.saving.save_model(model, 'my_model.keras')`. \n"
     ]
    },
    {
     "name": "stdout",
     "output_type": "stream",
     "text": [
      "45/45 - 13s - 296ms/step - accuracy: 0.3960 - loss: 1.4140 - val_accuracy: 0.5446 - val_loss: 1.2846\n",
      "Epoch 10/400\n",
      "\n",
      "Epoch 10: val_loss improved from 1.28456 to 1.24970, saving model to /tmp/checkpoint.h5\n"
     ]
    },
    {
     "name": "stderr",
     "output_type": "stream",
     "text": [
      "WARNING:absl:You are saving your model as an HDF5 file via `model.save()` or `keras.saving.save_model(model)`. This file format is considered legacy. We recommend using instead the native Keras format, e.g. `model.save('my_model.keras')` or `keras.saving.save_model(model, 'my_model.keras')`. \n"
     ]
    },
    {
     "name": "stdout",
     "output_type": "stream",
     "text": [
      "45/45 - 14s - 316ms/step - accuracy: 0.4290 - loss: 1.3612 - val_accuracy: 0.5446 - val_loss: 1.2497\n",
      "Epoch 11/400\n",
      "\n",
      "Epoch 11: val_loss improved from 1.24970 to 1.17913, saving model to /tmp/checkpoint.h5\n"
     ]
    },
    {
     "name": "stderr",
     "output_type": "stream",
     "text": [
      "WARNING:absl:You are saving your model as an HDF5 file via `model.save()` or `keras.saving.save_model(model)`. This file format is considered legacy. We recommend using instead the native Keras format, e.g. `model.save('my_model.keras')` or `keras.saving.save_model(model, 'my_model.keras')`. \n"
     ]
    },
    {
     "name": "stdout",
     "output_type": "stream",
     "text": [
      "45/45 - 14s - 303ms/step - accuracy: 0.4396 - loss: 1.3457 - val_accuracy: 0.5837 - val_loss: 1.1791\n",
      "Epoch 12/400\n",
      "\n",
      "Epoch 12: val_loss improved from 1.17913 to 1.14241, saving model to /tmp/checkpoint.h5\n"
     ]
    },
    {
     "name": "stderr",
     "output_type": "stream",
     "text": [
      "WARNING:absl:You are saving your model as an HDF5 file via `model.save()` or `keras.saving.save_model(model)`. This file format is considered legacy. We recommend using instead the native Keras format, e.g. `model.save('my_model.keras')` or `keras.saving.save_model(model, 'my_model.keras')`. \n"
     ]
    },
    {
     "name": "stdout",
     "output_type": "stream",
     "text": [
      "45/45 - 14s - 301ms/step - accuracy: 0.4649 - loss: 1.2929 - val_accuracy: 0.5603 - val_loss: 1.1424\n",
      "Epoch 13/400\n",
      "\n",
      "Epoch 13: val_loss improved from 1.14241 to 1.09747, saving model to /tmp/checkpoint.h5\n"
     ]
    },
    {
     "name": "stderr",
     "output_type": "stream",
     "text": [
      "WARNING:absl:You are saving your model as an HDF5 file via `model.save()` or `keras.saving.save_model(model)`. This file format is considered legacy. We recommend using instead the native Keras format, e.g. `model.save('my_model.keras')` or `keras.saving.save_model(model, 'my_model.keras')`. \n"
     ]
    },
    {
     "name": "stdout",
     "output_type": "stream",
     "text": [
      "45/45 - 14s - 305ms/step - accuracy: 0.4743 - loss: 1.2680 - val_accuracy: 0.6025 - val_loss: 1.0975\n",
      "Epoch 14/400\n",
      "\n",
      "Epoch 14: val_loss improved from 1.09747 to 1.06849, saving model to /tmp/checkpoint.h5\n"
     ]
    },
    {
     "name": "stderr",
     "output_type": "stream",
     "text": [
      "WARNING:absl:You are saving your model as an HDF5 file via `model.save()` or `keras.saving.save_model(model)`. This file format is considered legacy. We recommend using instead the native Keras format, e.g. `model.save('my_model.keras')` or `keras.saving.save_model(model, 'my_model.keras')`. \n"
     ]
    },
    {
     "name": "stdout",
     "output_type": "stream",
     "text": [
      "45/45 - 14s - 308ms/step - accuracy: 0.4736 - loss: 1.2359 - val_accuracy: 0.6103 - val_loss: 1.0685\n",
      "Epoch 15/400\n",
      "\n",
      "Epoch 15: val_loss improved from 1.06849 to 1.05919, saving model to /tmp/checkpoint.h5\n"
     ]
    },
    {
     "name": "stderr",
     "output_type": "stream",
     "text": [
      "WARNING:absl:You are saving your model as an HDF5 file via `model.save()` or `keras.saving.save_model(model)`. This file format is considered legacy. We recommend using instead the native Keras format, e.g. `model.save('my_model.keras')` or `keras.saving.save_model(model, 'my_model.keras')`. \n"
     ]
    },
    {
     "name": "stdout",
     "output_type": "stream",
     "text": [
      "45/45 - 13s - 291ms/step - accuracy: 0.4958 - loss: 1.2157 - val_accuracy: 0.5790 - val_loss: 1.0592\n",
      "Epoch 16/400\n",
      "\n",
      "Epoch 16: val_loss improved from 1.05919 to 1.03799, saving model to /tmp/checkpoint.h5\n"
     ]
    },
    {
     "name": "stderr",
     "output_type": "stream",
     "text": [
      "WARNING:absl:You are saving your model as an HDF5 file via `model.save()` or `keras.saving.save_model(model)`. This file format is considered legacy. We recommend using instead the native Keras format, e.g. `model.save('my_model.keras')` or `keras.saving.save_model(model, 'my_model.keras')`. \n"
     ]
    },
    {
     "name": "stdout",
     "output_type": "stream",
     "text": [
      "45/45 - 13s - 286ms/step - accuracy: 0.4877 - loss: 1.2182 - val_accuracy: 0.5962 - val_loss: 1.0380\n",
      "Epoch 17/400\n",
      "\n",
      "Epoch 17: val_loss improved from 1.03799 to 0.99926, saving model to /tmp/checkpoint.h5\n"
     ]
    },
    {
     "name": "stderr",
     "output_type": "stream",
     "text": [
      "WARNING:absl:You are saving your model as an HDF5 file via `model.save()` or `keras.saving.save_model(model)`. This file format is considered legacy. We recommend using instead the native Keras format, e.g. `model.save('my_model.keras')` or `keras.saving.save_model(model, 'my_model.keras')`. \n"
     ]
    },
    {
     "name": "stdout",
     "output_type": "stream",
     "text": [
      "45/45 - 13s - 283ms/step - accuracy: 0.5091 - loss: 1.1692 - val_accuracy: 0.6056 - val_loss: 0.9993\n",
      "Epoch 18/400\n",
      "\n",
      "Epoch 18: val_loss improved from 0.99926 to 0.99633, saving model to /tmp/checkpoint.h5\n"
     ]
    },
    {
     "name": "stderr",
     "output_type": "stream",
     "text": [
      "WARNING:absl:You are saving your model as an HDF5 file via `model.save()` or `keras.saving.save_model(model)`. This file format is considered legacy. We recommend using instead the native Keras format, e.g. `model.save('my_model.keras')` or `keras.saving.save_model(model, 'my_model.keras')`. \n"
     ]
    },
    {
     "name": "stdout",
     "output_type": "stream",
     "text": [
      "45/45 - 13s - 290ms/step - accuracy: 0.5095 - loss: 1.1966 - val_accuracy: 0.6166 - val_loss: 0.9963\n",
      "Epoch 19/400\n",
      "\n",
      "Epoch 19: val_loss improved from 0.99633 to 0.92823, saving model to /tmp/checkpoint.h5\n"
     ]
    },
    {
     "name": "stderr",
     "output_type": "stream",
     "text": [
      "WARNING:absl:You are saving your model as an HDF5 file via `model.save()` or `keras.saving.save_model(model)`. This file format is considered legacy. We recommend using instead the native Keras format, e.g. `model.save('my_model.keras')` or `keras.saving.save_model(model, 'my_model.keras')`. \n"
     ]
    },
    {
     "name": "stdout",
     "output_type": "stream",
     "text": [
      "45/45 - 13s - 290ms/step - accuracy: 0.5267 - loss: 1.1281 - val_accuracy: 0.6808 - val_loss: 0.9282\n",
      "Epoch 20/400\n",
      "\n",
      "Epoch 20: val_loss improved from 0.92823 to 0.91322, saving model to /tmp/checkpoint.h5\n"
     ]
    },
    {
     "name": "stderr",
     "output_type": "stream",
     "text": [
      "WARNING:absl:You are saving your model as an HDF5 file via `model.save()` or `keras.saving.save_model(model)`. This file format is considered legacy. We recommend using instead the native Keras format, e.g. `model.save('my_model.keras')` or `keras.saving.save_model(model, 'my_model.keras')`. \n"
     ]
    },
    {
     "name": "stdout",
     "output_type": "stream",
     "text": [
      "45/45 - 14s - 314ms/step - accuracy: 0.5499 - loss: 1.1163 - val_accuracy: 0.6745 - val_loss: 0.9132\n",
      "Epoch 21/400\n",
      "\n",
      "Epoch 21: val_loss improved from 0.91322 to 0.90153, saving model to /tmp/checkpoint.h5\n"
     ]
    },
    {
     "name": "stderr",
     "output_type": "stream",
     "text": [
      "WARNING:absl:You are saving your model as an HDF5 file via `model.save()` or `keras.saving.save_model(model)`. This file format is considered legacy. We recommend using instead the native Keras format, e.g. `model.save('my_model.keras')` or `keras.saving.save_model(model, 'my_model.keras')`. \n"
     ]
    },
    {
     "name": "stdout",
     "output_type": "stream",
     "text": [
      "45/45 - 13s - 287ms/step - accuracy: 0.5404 - loss: 1.1070 - val_accuracy: 0.6792 - val_loss: 0.9015\n",
      "Epoch 22/400\n",
      "\n",
      "Epoch 22: val_loss did not improve from 0.90153\n",
      "45/45 - 13s - 286ms/step - accuracy: 0.5394 - loss: 1.0858 - val_accuracy: 0.6808 - val_loss: 0.9023\n",
      "Epoch 23/400\n",
      "\n",
      "Epoch 23: val_loss improved from 0.90153 to 0.89126, saving model to /tmp/checkpoint.h5\n"
     ]
    },
    {
     "name": "stderr",
     "output_type": "stream",
     "text": [
      "WARNING:absl:You are saving your model as an HDF5 file via `model.save()` or `keras.saving.save_model(model)`. This file format is considered legacy. We recommend using instead the native Keras format, e.g. `model.save('my_model.keras')` or `keras.saving.save_model(model, 'my_model.keras')`. \n"
     ]
    },
    {
     "name": "stdout",
     "output_type": "stream",
     "text": [
      "45/45 - 13s - 288ms/step - accuracy: 0.5485 - loss: 1.0827 - val_accuracy: 0.6948 - val_loss: 0.8913\n",
      "Epoch 24/400\n",
      "\n",
      "Epoch 24: val_loss did not improve from 0.89126\n",
      "45/45 - 13s - 286ms/step - accuracy: 0.5555 - loss: 1.0697 - val_accuracy: 0.6917 - val_loss: 0.8919\n",
      "Epoch 25/400\n",
      "\n",
      "Epoch 25: val_loss improved from 0.89126 to 0.86650, saving model to /tmp/checkpoint.h5\n"
     ]
    },
    {
     "name": "stderr",
     "output_type": "stream",
     "text": [
      "WARNING:absl:You are saving your model as an HDF5 file via `model.save()` or `keras.saving.save_model(model)`. This file format is considered legacy. We recommend using instead the native Keras format, e.g. `model.save('my_model.keras')` or `keras.saving.save_model(model, 'my_model.keras')`. \n"
     ]
    },
    {
     "name": "stdout",
     "output_type": "stream",
     "text": [
      "45/45 - 13s - 288ms/step - accuracy: 0.5548 - loss: 1.0788 - val_accuracy: 0.6729 - val_loss: 0.8665\n",
      "Epoch 26/400\n",
      "\n",
      "Epoch 26: val_loss improved from 0.86650 to 0.86019, saving model to /tmp/checkpoint.h5\n"
     ]
    },
    {
     "name": "stderr",
     "output_type": "stream",
     "text": [
      "WARNING:absl:You are saving your model as an HDF5 file via `model.save()` or `keras.saving.save_model(model)`. This file format is considered legacy. We recommend using instead the native Keras format, e.g. `model.save('my_model.keras')` or `keras.saving.save_model(model, 'my_model.keras')`. \n"
     ]
    },
    {
     "name": "stdout",
     "output_type": "stream",
     "text": [
      "45/45 - 13s - 285ms/step - accuracy: 0.5625 - loss: 1.0565 - val_accuracy: 0.6995 - val_loss: 0.8602\n",
      "Epoch 27/400\n",
      "\n",
      "Epoch 27: val_loss did not improve from 0.86019\n",
      "45/45 - 13s - 291ms/step - accuracy: 0.5636 - loss: 1.0616 - val_accuracy: 0.6995 - val_loss: 0.8722\n",
      "Epoch 28/400\n",
      "\n",
      "Epoch 28: val_loss did not improve from 0.86019\n",
      "45/45 - 13s - 288ms/step - accuracy: 0.5594 - loss: 1.0598 - val_accuracy: 0.6980 - val_loss: 0.8634\n",
      "Epoch 29/400\n",
      "\n",
      "Epoch 29: val_loss improved from 0.86019 to 0.84778, saving model to /tmp/checkpoint.h5\n"
     ]
    },
    {
     "name": "stderr",
     "output_type": "stream",
     "text": [
      "WARNING:absl:You are saving your model as an HDF5 file via `model.save()` or `keras.saving.save_model(model)`. This file format is considered legacy. We recommend using instead the native Keras format, e.g. `model.save('my_model.keras')` or `keras.saving.save_model(model, 'my_model.keras')`. \n"
     ]
    },
    {
     "name": "stdout",
     "output_type": "stream",
     "text": [
      "45/45 - 13s - 289ms/step - accuracy: 0.5661 - loss: 1.0490 - val_accuracy: 0.7152 - val_loss: 0.8478\n",
      "Epoch 30/400\n",
      "\n",
      "Epoch 30: val_loss did not improve from 0.84778\n",
      "45/45 - 13s - 288ms/step - accuracy: 0.5791 - loss: 1.0210 - val_accuracy: 0.6917 - val_loss: 0.8489\n",
      "Epoch 31/400\n",
      "\n",
      "Epoch 31: val_loss improved from 0.84778 to 0.83147, saving model to /tmp/checkpoint.h5\n"
     ]
    },
    {
     "name": "stderr",
     "output_type": "stream",
     "text": [
      "WARNING:absl:You are saving your model as an HDF5 file via `model.save()` or `keras.saving.save_model(model)`. This file format is considered legacy. We recommend using instead the native Keras format, e.g. `model.save('my_model.keras')` or `keras.saving.save_model(model, 'my_model.keras')`. \n"
     ]
    },
    {
     "name": "stdout",
     "output_type": "stream",
     "text": [
      "45/45 - 13s - 291ms/step - accuracy: 0.5857 - loss: 1.0204 - val_accuracy: 0.7230 - val_loss: 0.8315\n",
      "Epoch 32/400\n",
      "\n",
      "Epoch 32: val_loss improved from 0.83147 to 0.81939, saving model to /tmp/checkpoint.h5\n"
     ]
    },
    {
     "name": "stderr",
     "output_type": "stream",
     "text": [
      "WARNING:absl:You are saving your model as an HDF5 file via `model.save()` or `keras.saving.save_model(model)`. This file format is considered legacy. We recommend using instead the native Keras format, e.g. `model.save('my_model.keras')` or `keras.saving.save_model(model, 'my_model.keras')`. \n"
     ]
    },
    {
     "name": "stdout",
     "output_type": "stream",
     "text": [
      "45/45 - 13s - 287ms/step - accuracy: 0.5798 - loss: 1.0583 - val_accuracy: 0.7324 - val_loss: 0.8194\n",
      "Epoch 33/400\n",
      "\n",
      "Epoch 33: val_loss did not improve from 0.81939\n",
      "45/45 - 13s - 285ms/step - accuracy: 0.5889 - loss: 1.0174 - val_accuracy: 0.7230 - val_loss: 0.8200\n",
      "Epoch 34/400\n",
      "\n",
      "Epoch 34: val_loss improved from 0.81939 to 0.81480, saving model to /tmp/checkpoint.h5\n"
     ]
    },
    {
     "name": "stderr",
     "output_type": "stream",
     "text": [
      "WARNING:absl:You are saving your model as an HDF5 file via `model.save()` or `keras.saving.save_model(model)`. This file format is considered legacy. We recommend using instead the native Keras format, e.g. `model.save('my_model.keras')` or `keras.saving.save_model(model, 'my_model.keras')`. \n"
     ]
    },
    {
     "name": "stdout",
     "output_type": "stream",
     "text": [
      "45/45 - 13s - 291ms/step - accuracy: 0.5889 - loss: 1.0039 - val_accuracy: 0.7355 - val_loss: 0.8148\n",
      "Epoch 35/400\n",
      "\n",
      "Epoch 35: val_loss improved from 0.81480 to 0.80939, saving model to /tmp/checkpoint.h5\n"
     ]
    },
    {
     "name": "stderr",
     "output_type": "stream",
     "text": [
      "WARNING:absl:You are saving your model as an HDF5 file via `model.save()` or `keras.saving.save_model(model)`. This file format is considered legacy. We recommend using instead the native Keras format, e.g. `model.save('my_model.keras')` or `keras.saving.save_model(model, 'my_model.keras')`. \n"
     ]
    },
    {
     "name": "stdout",
     "output_type": "stream",
     "text": [
      "45/45 - 13s - 289ms/step - accuracy: 0.5857 - loss: 1.0088 - val_accuracy: 0.7199 - val_loss: 0.8094\n",
      "Epoch 36/400\n",
      "\n",
      "Epoch 36: val_loss improved from 0.80939 to 0.78721, saving model to /tmp/checkpoint.h5\n"
     ]
    },
    {
     "name": "stderr",
     "output_type": "stream",
     "text": [
      "WARNING:absl:You are saving your model as an HDF5 file via `model.save()` or `keras.saving.save_model(model)`. This file format is considered legacy. We recommend using instead the native Keras format, e.g. `model.save('my_model.keras')` or `keras.saving.save_model(model, 'my_model.keras')`. \n"
     ]
    },
    {
     "name": "stdout",
     "output_type": "stream",
     "text": [
      "45/45 - 13s - 291ms/step - accuracy: 0.5935 - loss: 0.9846 - val_accuracy: 0.7480 - val_loss: 0.7872\n",
      "Epoch 37/400\n",
      "\n",
      "Epoch 37: val_loss improved from 0.78721 to 0.77259, saving model to /tmp/checkpoint.h5\n"
     ]
    },
    {
     "name": "stderr",
     "output_type": "stream",
     "text": [
      "WARNING:absl:You are saving your model as an HDF5 file via `model.save()` or `keras.saving.save_model(model)`. This file format is considered legacy. We recommend using instead the native Keras format, e.g. `model.save('my_model.keras')` or `keras.saving.save_model(model, 'my_model.keras')`. \n"
     ]
    },
    {
     "name": "stdout",
     "output_type": "stream",
     "text": [
      "45/45 - 13s - 290ms/step - accuracy: 0.6033 - loss: 1.0007 - val_accuracy: 0.7402 - val_loss: 0.7726\n",
      "Epoch 38/400\n",
      "\n",
      "Epoch 38: val_loss improved from 0.77259 to 0.75999, saving model to /tmp/checkpoint.h5\n"
     ]
    },
    {
     "name": "stderr",
     "output_type": "stream",
     "text": [
      "WARNING:absl:You are saving your model as an HDF5 file via `model.save()` or `keras.saving.save_model(model)`. This file format is considered legacy. We recommend using instead the native Keras format, e.g. `model.save('my_model.keras')` or `keras.saving.save_model(model, 'my_model.keras')`. \n"
     ]
    },
    {
     "name": "stdout",
     "output_type": "stream",
     "text": [
      "45/45 - 13s - 288ms/step - accuracy: 0.6181 - loss: 0.9701 - val_accuracy: 0.7574 - val_loss: 0.7600\n",
      "Epoch 39/400\n",
      "\n",
      "Epoch 39: val_loss improved from 0.75999 to 0.75883, saving model to /tmp/checkpoint.h5\n"
     ]
    },
    {
     "name": "stderr",
     "output_type": "stream",
     "text": [
      "WARNING:absl:You are saving your model as an HDF5 file via `model.save()` or `keras.saving.save_model(model)`. This file format is considered legacy. We recommend using instead the native Keras format, e.g. `model.save('my_model.keras')` or `keras.saving.save_model(model, 'my_model.keras')`. \n"
     ]
    },
    {
     "name": "stdout",
     "output_type": "stream",
     "text": [
      "45/45 - 14s - 307ms/step - accuracy: 0.6096 - loss: 0.9683 - val_accuracy: 0.7449 - val_loss: 0.7588\n",
      "Epoch 40/400\n",
      "\n",
      "Epoch 40: val_loss improved from 0.75883 to 0.75635, saving model to /tmp/checkpoint.h5\n"
     ]
    },
    {
     "name": "stderr",
     "output_type": "stream",
     "text": [
      "WARNING:absl:You are saving your model as an HDF5 file via `model.save()` or `keras.saving.save_model(model)`. This file format is considered legacy. We recommend using instead the native Keras format, e.g. `model.save('my_model.keras')` or `keras.saving.save_model(model, 'my_model.keras')`. \n"
     ]
    },
    {
     "name": "stdout",
     "output_type": "stream",
     "text": [
      "45/45 - 14s - 307ms/step - accuracy: 0.6188 - loss: 0.9661 - val_accuracy: 0.7668 - val_loss: 0.7563\n",
      "Epoch 41/400\n",
      "\n",
      "Epoch 41: val_loss improved from 0.75635 to 0.74028, saving model to /tmp/checkpoint.h5\n"
     ]
    },
    {
     "name": "stderr",
     "output_type": "stream",
     "text": [
      "WARNING:absl:You are saving your model as an HDF5 file via `model.save()` or `keras.saving.save_model(model)`. This file format is considered legacy. We recommend using instead the native Keras format, e.g. `model.save('my_model.keras')` or `keras.saving.save_model(model, 'my_model.keras')`. \n"
     ]
    },
    {
     "name": "stdout",
     "output_type": "stream",
     "text": [
      "45/45 - 14s - 310ms/step - accuracy: 0.6117 - loss: 0.9616 - val_accuracy: 0.7778 - val_loss: 0.7403\n",
      "Epoch 42/400\n",
      "\n",
      "Epoch 42: val_loss did not improve from 0.74028\n",
      "45/45 - 14s - 303ms/step - accuracy: 0.6198 - loss: 0.9626 - val_accuracy: 0.7512 - val_loss: 0.7479\n",
      "Epoch 43/400\n",
      "\n",
      "Epoch 43: val_loss did not improve from 0.74028\n",
      "45/45 - 15s - 332ms/step - accuracy: 0.6275 - loss: 0.9428 - val_accuracy: 0.7621 - val_loss: 0.7406\n",
      "Epoch 44/400\n",
      "\n",
      "Epoch 44: val_loss improved from 0.74028 to 0.71619, saving model to /tmp/checkpoint.h5\n"
     ]
    },
    {
     "name": "stderr",
     "output_type": "stream",
     "text": [
      "WARNING:absl:You are saving your model as an HDF5 file via `model.save()` or `keras.saving.save_model(model)`. This file format is considered legacy. We recommend using instead the native Keras format, e.g. `model.save('my_model.keras')` or `keras.saving.save_model(model, 'my_model.keras')`. \n"
     ]
    },
    {
     "name": "stdout",
     "output_type": "stream",
     "text": [
      "45/45 - 15s - 340ms/step - accuracy: 0.6181 - loss: 0.9522 - val_accuracy: 0.7793 - val_loss: 0.7162\n",
      "Epoch 45/400\n",
      "\n",
      "Epoch 45: val_loss did not improve from 0.71619\n",
      "45/45 - 15s - 342ms/step - accuracy: 0.6314 - loss: 0.9539 - val_accuracy: 0.7621 - val_loss: 0.7320\n",
      "Epoch 46/400\n",
      "\n",
      "Epoch 46: val_loss improved from 0.71619 to 0.70926, saving model to /tmp/checkpoint.h5\n"
     ]
    },
    {
     "name": "stderr",
     "output_type": "stream",
     "text": [
      "WARNING:absl:You are saving your model as an HDF5 file via `model.save()` or `keras.saving.save_model(model)`. This file format is considered legacy. We recommend using instead the native Keras format, e.g. `model.save('my_model.keras')` or `keras.saving.save_model(model, 'my_model.keras')`. \n"
     ]
    },
    {
     "name": "stdout",
     "output_type": "stream",
     "text": [
      "45/45 - 15s - 341ms/step - accuracy: 0.6261 - loss: 0.9645 - val_accuracy: 0.7700 - val_loss: 0.7093\n",
      "Epoch 47/400\n",
      "\n",
      "Epoch 47: val_loss did not improve from 0.70926\n",
      "45/45 - 15s - 341ms/step - accuracy: 0.6216 - loss: 0.9287 - val_accuracy: 0.7684 - val_loss: 0.7104\n",
      "Epoch 48/400\n",
      "\n",
      "Epoch 48: val_loss improved from 0.70926 to 0.70698, saving model to /tmp/checkpoint.h5\n"
     ]
    },
    {
     "name": "stderr",
     "output_type": "stream",
     "text": [
      "WARNING:absl:You are saving your model as an HDF5 file via `model.save()` or `keras.saving.save_model(model)`. This file format is considered legacy. We recommend using instead the native Keras format, e.g. `model.save('my_model.keras')` or `keras.saving.save_model(model, 'my_model.keras')`. \n"
     ]
    },
    {
     "name": "stdout",
     "output_type": "stream",
     "text": [
      "45/45 - 15s - 336ms/step - accuracy: 0.6293 - loss: 0.9359 - val_accuracy: 0.7606 - val_loss: 0.7070\n",
      "Epoch 49/400\n",
      "\n",
      "Epoch 49: val_loss did not improve from 0.70698\n",
      "45/45 - 15s - 335ms/step - accuracy: 0.6539 - loss: 0.8956 - val_accuracy: 0.7621 - val_loss: 0.7127\n",
      "Epoch 50/400\n",
      "\n",
      "Epoch 50: val_loss improved from 0.70698 to 0.69769, saving model to /tmp/checkpoint.h5\n"
     ]
    },
    {
     "name": "stderr",
     "output_type": "stream",
     "text": [
      "WARNING:absl:You are saving your model as an HDF5 file via `model.save()` or `keras.saving.save_model(model)`. This file format is considered legacy. We recommend using instead the native Keras format, e.g. `model.save('my_model.keras')` or `keras.saving.save_model(model, 'my_model.keras')`. \n"
     ]
    },
    {
     "name": "stdout",
     "output_type": "stream",
     "text": [
      "45/45 - 15s - 341ms/step - accuracy: 0.6434 - loss: 0.9169 - val_accuracy: 0.7700 - val_loss: 0.6977\n",
      "Epoch 51/400\n",
      "\n",
      "Epoch 51: val_loss did not improve from 0.69769\n",
      "45/45 - 15s - 338ms/step - accuracy: 0.6420 - loss: 0.8861 - val_accuracy: 0.7559 - val_loss: 0.7180\n",
      "Epoch 52/400\n",
      "\n",
      "Epoch 52: val_loss did not improve from 0.69769\n",
      "45/45 - 15s - 342ms/step - accuracy: 0.6507 - loss: 0.9150 - val_accuracy: 0.7543 - val_loss: 0.7066\n",
      "Epoch 53/400\n",
      "\n",
      "Epoch 53: val_loss improved from 0.69769 to 0.68612, saving model to /tmp/checkpoint.h5\n"
     ]
    },
    {
     "name": "stderr",
     "output_type": "stream",
     "text": [
      "WARNING:absl:You are saving your model as an HDF5 file via `model.save()` or `keras.saving.save_model(model)`. This file format is considered legacy. We recommend using instead the native Keras format, e.g. `model.save('my_model.keras')` or `keras.saving.save_model(model, 'my_model.keras')`. \n"
     ]
    },
    {
     "name": "stdout",
     "output_type": "stream",
     "text": [
      "45/45 - 15s - 341ms/step - accuracy: 0.6420 - loss: 0.9224 - val_accuracy: 0.7762 - val_loss: 0.6861\n",
      "Epoch 54/400\n",
      "\n",
      "Epoch 54: val_loss did not improve from 0.68612\n",
      "45/45 - 15s - 338ms/step - accuracy: 0.6455 - loss: 0.9207 - val_accuracy: 0.7637 - val_loss: 0.6945\n",
      "Epoch 55/400\n",
      "\n",
      "Epoch 55: val_loss improved from 0.68612 to 0.68351, saving model to /tmp/checkpoint.h5\n"
     ]
    },
    {
     "name": "stderr",
     "output_type": "stream",
     "text": [
      "WARNING:absl:You are saving your model as an HDF5 file via `model.save()` or `keras.saving.save_model(model)`. This file format is considered legacy. We recommend using instead the native Keras format, e.g. `model.save('my_model.keras')` or `keras.saving.save_model(model, 'my_model.keras')`. \n"
     ]
    },
    {
     "name": "stdout",
     "output_type": "stream",
     "text": [
      "45/45 - 15s - 342ms/step - accuracy: 0.6532 - loss: 0.8950 - val_accuracy: 0.7684 - val_loss: 0.6835\n",
      "Epoch 56/400\n",
      "\n",
      "Epoch 56: val_loss improved from 0.68351 to 0.68002, saving model to /tmp/checkpoint.h5\n"
     ]
    },
    {
     "name": "stderr",
     "output_type": "stream",
     "text": [
      "WARNING:absl:You are saving your model as an HDF5 file via `model.save()` or `keras.saving.save_model(model)`. This file format is considered legacy. We recommend using instead the native Keras format, e.g. `model.save('my_model.keras')` or `keras.saving.save_model(model, 'my_model.keras')`. \n"
     ]
    },
    {
     "name": "stdout",
     "output_type": "stream",
     "text": [
      "45/45 - 15s - 341ms/step - accuracy: 0.6409 - loss: 0.9014 - val_accuracy: 0.7762 - val_loss: 0.6800\n",
      "Epoch 57/400\n",
      "\n",
      "Epoch 57: val_loss improved from 0.68002 to 0.66098, saving model to /tmp/checkpoint.h5\n"
     ]
    },
    {
     "name": "stderr",
     "output_type": "stream",
     "text": [
      "WARNING:absl:You are saving your model as an HDF5 file via `model.save()` or `keras.saving.save_model(model)`. This file format is considered legacy. We recommend using instead the native Keras format, e.g. `model.save('my_model.keras')` or `keras.saving.save_model(model, 'my_model.keras')`. \n"
     ]
    },
    {
     "name": "stdout",
     "output_type": "stream",
     "text": [
      "45/45 - 16s - 347ms/step - accuracy: 0.6413 - loss: 0.9107 - val_accuracy: 0.7793 - val_loss: 0.6610\n",
      "Epoch 58/400\n",
      "\n",
      "Epoch 58: val_loss did not improve from 0.66098\n",
      "45/45 - 15s - 340ms/step - accuracy: 0.6539 - loss: 0.9124 - val_accuracy: 0.7903 - val_loss: 0.6643\n",
      "Epoch 59/400\n",
      "\n",
      "Epoch 59: val_loss did not improve from 0.66098\n",
      "45/45 - 15s - 341ms/step - accuracy: 0.6423 - loss: 0.9080 - val_accuracy: 0.7746 - val_loss: 0.6724\n",
      "Epoch 60/400\n",
      "\n",
      "Epoch 60: val_loss did not improve from 0.66098\n",
      "45/45 - 16s - 351ms/step - accuracy: 0.6599 - loss: 0.8887 - val_accuracy: 0.7574 - val_loss: 0.6978\n",
      "Epoch 61/400\n",
      "\n",
      "Epoch 61: val_loss did not improve from 0.66098\n",
      "45/45 - 15s - 344ms/step - accuracy: 0.6637 - loss: 0.8771 - val_accuracy: 0.7825 - val_loss: 0.6809\n",
      "Epoch 62/400\n",
      "\n",
      "Epoch 62: val_loss did not improve from 0.66098\n",
      "45/45 - 15s - 342ms/step - accuracy: 0.6476 - loss: 0.9004 - val_accuracy: 0.7653 - val_loss: 0.6860\n",
      "Epoch 63/400\n",
      "\n",
      "Epoch 63: val_loss did not improve from 0.66098\n",
      "45/45 - 15s - 341ms/step - accuracy: 0.6599 - loss: 0.8896 - val_accuracy: 0.7684 - val_loss: 0.6699\n",
      "Epoch 64/400\n",
      "\n",
      "Epoch 64: val_loss did not improve from 0.66098\n",
      "45/45 - 15s - 339ms/step - accuracy: 0.6546 - loss: 0.8982 - val_accuracy: 0.7512 - val_loss: 0.6841\n",
      "Epoch 65/400\n",
      "\n",
      "Epoch 65: val_loss did not improve from 0.66098\n",
      "45/45 - 15s - 341ms/step - accuracy: 0.6588 - loss: 0.8781 - val_accuracy: 0.7653 - val_loss: 0.6821\n",
      "Epoch 66/400\n",
      "\n",
      "Epoch 66: val_loss did not improve from 0.66098\n",
      "45/45 - 15s - 342ms/step - accuracy: 0.6662 - loss: 0.8878 - val_accuracy: 0.7637 - val_loss: 0.6687\n",
      "Epoch 67/400\n",
      "\n",
      "Epoch 67: val_loss improved from 0.66098 to 0.65881, saving model to /tmp/checkpoint.h5\n"
     ]
    },
    {
     "name": "stderr",
     "output_type": "stream",
     "text": [
      "WARNING:absl:You are saving your model as an HDF5 file via `model.save()` or `keras.saving.save_model(model)`. This file format is considered legacy. We recommend using instead the native Keras format, e.g. `model.save('my_model.keras')` or `keras.saving.save_model(model, 'my_model.keras')`. \n"
     ]
    },
    {
     "name": "stdout",
     "output_type": "stream",
     "text": [
      "45/45 - 15s - 344ms/step - accuracy: 0.6644 - loss: 0.8757 - val_accuracy: 0.7809 - val_loss: 0.6588\n",
      "Epoch 68/400\n",
      "\n",
      "Epoch 68: val_loss did not improve from 0.65881\n",
      "45/45 - 15s - 340ms/step - accuracy: 0.6595 - loss: 0.8831 - val_accuracy: 0.7809 - val_loss: 0.6603\n",
      "Epoch 69/400\n",
      "\n",
      "Epoch 69: val_loss improved from 0.65881 to 0.65689, saving model to /tmp/checkpoint.h5\n"
     ]
    },
    {
     "name": "stderr",
     "output_type": "stream",
     "text": [
      "WARNING:absl:You are saving your model as an HDF5 file via `model.save()` or `keras.saving.save_model(model)`. This file format is considered legacy. We recommend using instead the native Keras format, e.g. `model.save('my_model.keras')` or `keras.saving.save_model(model, 'my_model.keras')`. \n"
     ]
    },
    {
     "name": "stdout",
     "output_type": "stream",
     "text": [
      "45/45 - 15s - 338ms/step - accuracy: 0.6532 - loss: 0.8707 - val_accuracy: 0.7919 - val_loss: 0.6569\n",
      "Epoch 70/400\n",
      "\n",
      "Epoch 70: val_loss did not improve from 0.65689\n",
      "45/45 - 15s - 339ms/step - accuracy: 0.6560 - loss: 0.8776 - val_accuracy: 0.7919 - val_loss: 0.6603\n",
      "Epoch 71/400\n",
      "\n",
      "Epoch 71: val_loss did not improve from 0.65689\n",
      "45/45 - 15s - 344ms/step - accuracy: 0.6571 - loss: 0.8655 - val_accuracy: 0.7746 - val_loss: 0.6648\n",
      "Epoch 72/400\n",
      "\n",
      "Epoch 72: val_loss did not improve from 0.65689\n",
      "45/45 - 15s - 340ms/step - accuracy: 0.6848 - loss: 0.8505 - val_accuracy: 0.7778 - val_loss: 0.6703\n",
      "Epoch 73/400\n",
      "\n",
      "Epoch 73: val_loss did not improve from 0.65689\n",
      "45/45 - 15s - 337ms/step - accuracy: 0.6623 - loss: 0.8733 - val_accuracy: 0.7731 - val_loss: 0.6657\n",
      "Epoch 74/400\n",
      "\n",
      "Epoch 74: val_loss did not improve from 0.65689\n",
      "45/45 - 15s - 342ms/step - accuracy: 0.6651 - loss: 0.8790 - val_accuracy: 0.7512 - val_loss: 0.6799\n",
      "Epoch 75/400\n",
      "\n",
      "Epoch 75: val_loss did not improve from 0.65689\n",
      "45/45 - 15s - 338ms/step - accuracy: 0.6599 - loss: 0.8764 - val_accuracy: 0.7762 - val_loss: 0.6680\n",
      "Epoch 76/400\n",
      "\n",
      "Epoch 76: val_loss did not improve from 0.65689\n",
      "45/45 - 15s - 344ms/step - accuracy: 0.6592 - loss: 0.8798 - val_accuracy: 0.7637 - val_loss: 0.6660\n",
      "Epoch 77/400\n",
      "\n",
      "Epoch 77: val_loss did not improve from 0.65689\n",
      "45/45 - 15s - 340ms/step - accuracy: 0.6609 - loss: 0.8769 - val_accuracy: 0.7731 - val_loss: 0.6709\n",
      "Epoch 78/400\n",
      "\n",
      "Epoch 78: val_loss did not improve from 0.65689\n",
      "45/45 - 15s - 343ms/step - accuracy: 0.6430 - loss: 0.8851 - val_accuracy: 0.7731 - val_loss: 0.6674\n",
      "Epoch 79/400\n",
      "\n",
      "Epoch 79: val_loss improved from 0.65689 to 0.64985, saving model to /tmp/checkpoint.h5\n"
     ]
    },
    {
     "name": "stderr",
     "output_type": "stream",
     "text": [
      "WARNING:absl:You are saving your model as an HDF5 file via `model.save()` or `keras.saving.save_model(model)`. This file format is considered legacy. We recommend using instead the native Keras format, e.g. `model.save('my_model.keras')` or `keras.saving.save_model(model, 'my_model.keras')`. \n"
     ]
    },
    {
     "name": "stdout",
     "output_type": "stream",
     "text": [
      "45/45 - 15s - 337ms/step - accuracy: 0.6774 - loss: 0.8337 - val_accuracy: 0.7825 - val_loss: 0.6499\n",
      "Epoch 80/400\n",
      "\n",
      "Epoch 80: val_loss did not improve from 0.64985\n",
      "45/45 - 15s - 337ms/step - accuracy: 0.6641 - loss: 0.8661 - val_accuracy: 0.7778 - val_loss: 0.6544\n",
      "Epoch 81/400\n",
      "\n",
      "Epoch 81: val_loss improved from 0.64985 to 0.64222, saving model to /tmp/checkpoint.h5\n"
     ]
    },
    {
     "name": "stderr",
     "output_type": "stream",
     "text": [
      "WARNING:absl:You are saving your model as an HDF5 file via `model.save()` or `keras.saving.save_model(model)`. This file format is considered legacy. We recommend using instead the native Keras format, e.g. `model.save('my_model.keras')` or `keras.saving.save_model(model, 'my_model.keras')`. \n"
     ]
    },
    {
     "name": "stdout",
     "output_type": "stream",
     "text": [
      "45/45 - 15s - 337ms/step - accuracy: 0.6560 - loss: 0.8543 - val_accuracy: 0.7903 - val_loss: 0.6422\n",
      "Epoch 82/400\n",
      "\n",
      "Epoch 82: val_loss did not improve from 0.64222\n",
      "45/45 - 15s - 339ms/step - accuracy: 0.6560 - loss: 0.8835 - val_accuracy: 0.7731 - val_loss: 0.6645\n",
      "Epoch 83/400\n",
      "\n",
      "Epoch 83: val_loss did not improve from 0.64222\n",
      "45/45 - 15s - 339ms/step - accuracy: 0.6648 - loss: 0.8515 - val_accuracy: 0.7621 - val_loss: 0.6625\n",
      "Epoch 84/400\n",
      "\n",
      "Epoch 84: val_loss did not improve from 0.64222\n",
      "45/45 - 16s - 347ms/step - accuracy: 0.6680 - loss: 0.8501 - val_accuracy: 0.7762 - val_loss: 0.6642\n",
      "Epoch 85/400\n",
      "\n",
      "Epoch 85: val_loss did not improve from 0.64222\n",
      "45/45 - 16s - 346ms/step - accuracy: 0.6673 - loss: 0.8637 - val_accuracy: 0.7856 - val_loss: 0.6547\n",
      "Epoch 86/400\n",
      "\n",
      "Epoch 86: val_loss improved from 0.64222 to 0.64203, saving model to /tmp/checkpoint.h5\n"
     ]
    },
    {
     "name": "stderr",
     "output_type": "stream",
     "text": [
      "WARNING:absl:You are saving your model as an HDF5 file via `model.save()` or `keras.saving.save_model(model)`. This file format is considered legacy. We recommend using instead the native Keras format, e.g. `model.save('my_model.keras')` or `keras.saving.save_model(model, 'my_model.keras')`. \n"
     ]
    },
    {
     "name": "stdout",
     "output_type": "stream",
     "text": [
      "45/45 - 16s - 348ms/step - accuracy: 0.6690 - loss: 0.8538 - val_accuracy: 0.7903 - val_loss: 0.6420\n",
      "Epoch 87/400\n",
      "\n",
      "Epoch 87: val_loss did not improve from 0.64203\n",
      "45/45 - 15s - 342ms/step - accuracy: 0.6616 - loss: 0.8450 - val_accuracy: 0.7809 - val_loss: 0.6443\n",
      "Epoch 88/400\n",
      "\n",
      "Epoch 88: val_loss improved from 0.64203 to 0.63117, saving model to /tmp/checkpoint.h5\n"
     ]
    },
    {
     "name": "stderr",
     "output_type": "stream",
     "text": [
      "WARNING:absl:You are saving your model as an HDF5 file via `model.save()` or `keras.saving.save_model(model)`. This file format is considered legacy. We recommend using instead the native Keras format, e.g. `model.save('my_model.keras')` or `keras.saving.save_model(model, 'my_model.keras')`. \n"
     ]
    },
    {
     "name": "stdout",
     "output_type": "stream",
     "text": [
      "45/45 - 15s - 340ms/step - accuracy: 0.6824 - loss: 0.8390 - val_accuracy: 0.7887 - val_loss: 0.6312\n",
      "Epoch 89/400\n",
      "\n",
      "Epoch 89: val_loss did not improve from 0.63117\n",
      "45/45 - 16s - 346ms/step - accuracy: 0.6711 - loss: 0.8594 - val_accuracy: 0.8044 - val_loss: 0.6390\n",
      "Epoch 90/400\n",
      "\n",
      "Epoch 90: val_loss did not improve from 0.63117\n",
      "45/45 - 16s - 345ms/step - accuracy: 0.6687 - loss: 0.8567 - val_accuracy: 0.7778 - val_loss: 0.6436\n",
      "Epoch 91/400\n",
      "\n",
      "Epoch 91: val_loss did not improve from 0.63117\n",
      "45/45 - 15s - 342ms/step - accuracy: 0.6676 - loss: 0.8402 - val_accuracy: 0.7746 - val_loss: 0.6646\n",
      "Epoch 92/400\n",
      "\n",
      "Epoch 92: val_loss did not improve from 0.63117\n",
      "45/45 - 15s - 340ms/step - accuracy: 0.6897 - loss: 0.8362 - val_accuracy: 0.7840 - val_loss: 0.6421\n",
      "Epoch 93/400\n",
      "\n",
      "Epoch 93: val_loss did not improve from 0.63117\n",
      "45/45 - 15s - 338ms/step - accuracy: 0.6680 - loss: 0.8659 - val_accuracy: 0.7793 - val_loss: 0.6531\n",
      "Epoch 94/400\n",
      "\n",
      "Epoch 94: val_loss did not improve from 0.63117\n",
      "45/45 - 15s - 340ms/step - accuracy: 0.6662 - loss: 0.8390 - val_accuracy: 0.7887 - val_loss: 0.6387\n",
      "Epoch 95/400\n",
      "\n",
      "Epoch 95: val_loss did not improve from 0.63117\n",
      "45/45 - 15s - 337ms/step - accuracy: 0.6613 - loss: 0.8445 - val_accuracy: 0.7997 - val_loss: 0.6362\n",
      "Epoch 96/400\n",
      "\n",
      "Epoch 96: val_loss did not improve from 0.63117\n",
      "45/45 - 15s - 339ms/step - accuracy: 0.6785 - loss: 0.8189 - val_accuracy: 0.7950 - val_loss: 0.6493\n",
      "Epoch 97/400\n",
      "\n",
      "Epoch 97: val_loss did not improve from 0.63117\n",
      "45/45 - 15s - 336ms/step - accuracy: 0.6746 - loss: 0.8335 - val_accuracy: 0.7887 - val_loss: 0.6414\n",
      "Epoch 98/400\n",
      "\n",
      "Epoch 98: val_loss did not improve from 0.63117\n",
      "45/45 - 15s - 338ms/step - accuracy: 0.6701 - loss: 0.8515 - val_accuracy: 0.7653 - val_loss: 0.6715\n",
      "Epoch 99/400\n",
      "\n",
      "Epoch 99: val_loss did not improve from 0.63117\n",
      "45/45 - 15s - 338ms/step - accuracy: 0.6623 - loss: 0.8494 - val_accuracy: 0.7887 - val_loss: 0.6451\n",
      "Epoch 100/400\n",
      "\n",
      "Epoch 100: val_loss did not improve from 0.63117\n",
      "45/45 - 15s - 342ms/step - accuracy: 0.6680 - loss: 0.8400 - val_accuracy: 0.7950 - val_loss: 0.6324\n",
      "Epoch 101/400\n",
      "\n",
      "Epoch 101: val_loss did not improve from 0.63117\n",
      "45/45 - 15s - 337ms/step - accuracy: 0.6729 - loss: 0.8406 - val_accuracy: 0.7966 - val_loss: 0.6352\n",
      "Epoch 102/400\n",
      "\n",
      "Epoch 102: val_loss did not improve from 0.63117\n",
      "45/45 - 15s - 337ms/step - accuracy: 0.6855 - loss: 0.8355 - val_accuracy: 0.7934 - val_loss: 0.6384\n",
      "Epoch 103/400\n",
      "\n",
      "Epoch 103: val_loss did not improve from 0.63117\n",
      "45/45 - 16s - 345ms/step - accuracy: 0.6746 - loss: 0.8464 - val_accuracy: 0.7919 - val_loss: 0.6425\n",
      "Epoch 104/400\n",
      "\n",
      "Epoch 104: val_loss did not improve from 0.63117\n",
      "45/45 - 15s - 344ms/step - accuracy: 0.6662 - loss: 0.8453 - val_accuracy: 0.7903 - val_loss: 0.6471\n",
      "Epoch 105/400\n",
      "\n",
      "Epoch 105: val_loss did not improve from 0.63117\n",
      "45/45 - 16s - 347ms/step - accuracy: 0.6729 - loss: 0.8553 - val_accuracy: 0.7997 - val_loss: 0.6368\n",
      "Epoch 106/400\n",
      "\n",
      "Epoch 106: val_loss did not improve from 0.63117\n",
      "45/45 - 16s - 345ms/step - accuracy: 0.6792 - loss: 0.8252 - val_accuracy: 0.8013 - val_loss: 0.6318\n",
      "Epoch 107/400\n",
      "\n",
      "Epoch 107: val_loss did not improve from 0.63117\n",
      "45/45 - 17s - 381ms/step - accuracy: 0.6792 - loss: 0.8329 - val_accuracy: 0.7778 - val_loss: 0.6533\n",
      "Epoch 108/400\n",
      "\n",
      "Epoch 108: val_loss did not improve from 0.63117\n",
      "45/45 - 17s - 373ms/step - accuracy: 0.6715 - loss: 0.8449 - val_accuracy: 0.7934 - val_loss: 0.6374\n",
      "Epoch 109/400\n",
      "\n",
      "Epoch 109: val_loss improved from 0.63117 to 0.62474, saving model to /tmp/checkpoint.h5\n"
     ]
    },
    {
     "name": "stderr",
     "output_type": "stream",
     "text": [
      "WARNING:absl:You are saving your model as an HDF5 file via `model.save()` or `keras.saving.save_model(model)`. This file format is considered legacy. We recommend using instead the native Keras format, e.g. `model.save('my_model.keras')` or `keras.saving.save_model(model, 'my_model.keras')`. \n"
     ]
    },
    {
     "name": "stdout",
     "output_type": "stream",
     "text": [
      "45/45 - 16s - 361ms/step - accuracy: 0.6571 - loss: 0.8552 - val_accuracy: 0.8013 - val_loss: 0.6247\n",
      "Epoch 110/400\n",
      "\n",
      "Epoch 110: val_loss did not improve from 0.62474\n",
      "45/45 - 16s - 351ms/step - accuracy: 0.6718 - loss: 0.8514 - val_accuracy: 0.7887 - val_loss: 0.6456\n",
      "Epoch 111/400\n",
      "\n",
      "Epoch 111: val_loss did not improve from 0.62474\n",
      "45/45 - 16s - 351ms/step - accuracy: 0.6817 - loss: 0.8445 - val_accuracy: 0.7966 - val_loss: 0.6298\n",
      "Epoch 112/400\n",
      "\n",
      "Epoch 112: val_loss did not improve from 0.62474\n",
      "45/45 - 16s - 355ms/step - accuracy: 0.6757 - loss: 0.8361 - val_accuracy: 0.8044 - val_loss: 0.6282\n",
      "Epoch 113/400\n",
      "\n",
      "Epoch 113: val_loss did not improve from 0.62474\n",
      "45/45 - 16s - 354ms/step - accuracy: 0.6799 - loss: 0.8377 - val_accuracy: 0.7997 - val_loss: 0.6364\n",
      "Epoch 114/400\n",
      "\n",
      "Epoch 114: val_loss did not improve from 0.62474\n",
      "45/45 - 16s - 346ms/step - accuracy: 0.6567 - loss: 0.8537 - val_accuracy: 0.7856 - val_loss: 0.6331\n",
      "Epoch 115/400\n",
      "\n",
      "Epoch 115: val_loss did not improve from 0.62474\n",
      "45/45 - 16s - 345ms/step - accuracy: 0.6841 - loss: 0.8353 - val_accuracy: 0.7715 - val_loss: 0.6692\n",
      "Epoch 116/400\n",
      "\n",
      "Epoch 116: val_loss did not improve from 0.62474\n",
      "45/45 - 16s - 350ms/step - accuracy: 0.6690 - loss: 0.8283 - val_accuracy: 0.7872 - val_loss: 0.6506\n",
      "Epoch 117/400\n",
      "\n",
      "Epoch 117: val_loss did not improve from 0.62474\n",
      "45/45 - 16s - 349ms/step - accuracy: 0.6697 - loss: 0.8348 - val_accuracy: 0.7919 - val_loss: 0.6382\n",
      "Epoch 118/400\n",
      "\n",
      "Epoch 118: val_loss did not improve from 0.62474\n",
      "45/45 - 16s - 347ms/step - accuracy: 0.6781 - loss: 0.8270 - val_accuracy: 0.7997 - val_loss: 0.6373\n",
      "Epoch 119/400\n",
      "\n",
      "Epoch 119: val_loss improved from 0.62474 to 0.62465, saving model to /tmp/checkpoint.h5\n"
     ]
    },
    {
     "name": "stderr",
     "output_type": "stream",
     "text": [
      "WARNING:absl:You are saving your model as an HDF5 file via `model.save()` or `keras.saving.save_model(model)`. This file format is considered legacy. We recommend using instead the native Keras format, e.g. `model.save('my_model.keras')` or `keras.saving.save_model(model, 'my_model.keras')`. \n"
     ]
    },
    {
     "name": "stdout",
     "output_type": "stream",
     "text": [
      "45/45 - 16s - 349ms/step - accuracy: 0.6736 - loss: 0.8294 - val_accuracy: 0.7950 - val_loss: 0.6246\n",
      "Epoch 120/400\n",
      "\n",
      "Epoch 120: val_loss did not improve from 0.62465\n",
      "45/45 - 16s - 355ms/step - accuracy: 0.6673 - loss: 0.8302 - val_accuracy: 0.7778 - val_loss: 0.6288\n",
      "Epoch 121/400\n",
      "\n",
      "Epoch 121: val_loss did not improve from 0.62465\n",
      "45/45 - 16s - 348ms/step - accuracy: 0.6644 - loss: 0.8476 - val_accuracy: 0.7997 - val_loss: 0.6306\n",
      "Epoch 122/400\n",
      "\n",
      "Epoch 122: val_loss did not improve from 0.62465\n",
      "45/45 - 16s - 355ms/step - accuracy: 0.6781 - loss: 0.8284 - val_accuracy: 0.7887 - val_loss: 0.6435\n",
      "Epoch 123/400\n",
      "\n",
      "Epoch 123: val_loss improved from 0.62465 to 0.62462, saving model to /tmp/checkpoint.h5\n"
     ]
    },
    {
     "name": "stderr",
     "output_type": "stream",
     "text": [
      "WARNING:absl:You are saving your model as an HDF5 file via `model.save()` or `keras.saving.save_model(model)`. This file format is considered legacy. We recommend using instead the native Keras format, e.g. `model.save('my_model.keras')` or `keras.saving.save_model(model, 'my_model.keras')`. \n"
     ]
    },
    {
     "name": "stdout",
     "output_type": "stream",
     "text": [
      "45/45 - 16s - 350ms/step - accuracy: 0.6658 - loss: 0.8523 - val_accuracy: 0.8028 - val_loss: 0.6246\n",
      "Epoch 124/400\n",
      "\n",
      "Epoch 124: val_loss did not improve from 0.62462\n",
      "45/45 - 16s - 350ms/step - accuracy: 0.6732 - loss: 0.8363 - val_accuracy: 0.7997 - val_loss: 0.6272\n",
      "Epoch 125/400\n",
      "\n",
      "Epoch 125: val_loss did not improve from 0.62462\n",
      "45/45 - 16s - 350ms/step - accuracy: 0.6887 - loss: 0.8221 - val_accuracy: 0.7950 - val_loss: 0.6288\n",
      "Epoch 126/400\n",
      "\n",
      "Epoch 126: val_loss did not improve from 0.62462\n",
      "45/45 - 16s - 351ms/step - accuracy: 0.6690 - loss: 0.8310 - val_accuracy: 0.7997 - val_loss: 0.6274\n",
      "Epoch 127/400\n",
      "\n",
      "Epoch 127: val_loss improved from 0.62462 to 0.62379, saving model to /tmp/checkpoint.h5\n"
     ]
    },
    {
     "name": "stderr",
     "output_type": "stream",
     "text": [
      "WARNING:absl:You are saving your model as an HDF5 file via `model.save()` or `keras.saving.save_model(model)`. This file format is considered legacy. We recommend using instead the native Keras format, e.g. `model.save('my_model.keras')` or `keras.saving.save_model(model, 'my_model.keras')`. \n"
     ]
    },
    {
     "name": "stdout",
     "output_type": "stream",
     "text": [
      "45/45 - 16s - 350ms/step - accuracy: 0.6827 - loss: 0.8263 - val_accuracy: 0.7966 - val_loss: 0.6238\n",
      "Epoch 128/400\n",
      "\n",
      "Epoch 128: val_loss did not improve from 0.62379\n",
      "45/45 - 16s - 347ms/step - accuracy: 0.6806 - loss: 0.8416 - val_accuracy: 0.7840 - val_loss: 0.6392\n",
      "Epoch 129/400\n",
      "\n",
      "Epoch 129: val_loss did not improve from 0.62379\n",
      "45/45 - 15s - 344ms/step - accuracy: 0.6869 - loss: 0.8291 - val_accuracy: 0.7840 - val_loss: 0.6408\n",
      "Epoch 130/400\n",
      "\n",
      "Epoch 130: val_loss did not improve from 0.62379\n",
      "45/45 - 16s - 346ms/step - accuracy: 0.6764 - loss: 0.8349 - val_accuracy: 0.7934 - val_loss: 0.6300\n",
      "Epoch 131/400\n",
      "\n",
      "Epoch 131: val_loss did not improve from 0.62379\n",
      "45/45 - 16s - 347ms/step - accuracy: 0.6817 - loss: 0.8381 - val_accuracy: 0.7872 - val_loss: 0.6452\n",
      "Epoch 132/400\n",
      "\n",
      "Epoch 132: val_loss did not improve from 0.62379\n",
      "45/45 - 15s - 343ms/step - accuracy: 0.6841 - loss: 0.8268 - val_accuracy: 0.7856 - val_loss: 0.6459\n",
      "Epoch 133/400\n",
      "\n",
      "Epoch 133: val_loss did not improve from 0.62379\n",
      "45/45 - 15s - 341ms/step - accuracy: 0.6799 - loss: 0.8361 - val_accuracy: 0.7903 - val_loss: 0.6372\n",
      "Epoch 134/400\n",
      "\n",
      "Epoch 134: val_loss did not improve from 0.62379\n",
      "45/45 - 16s - 347ms/step - accuracy: 0.6743 - loss: 0.8555 - val_accuracy: 0.7981 - val_loss: 0.6265\n",
      "Epoch 135/400\n",
      "\n",
      "Epoch 135: val_loss did not improve from 0.62379\n",
      "45/45 - 15s - 343ms/step - accuracy: 0.6841 - loss: 0.8163 - val_accuracy: 0.7950 - val_loss: 0.6312\n",
      "Epoch 136/400\n",
      "\n",
      "Epoch 136: val_loss did not improve from 0.62379\n",
      "45/45 - 15s - 344ms/step - accuracy: 0.6697 - loss: 0.8309 - val_accuracy: 0.7919 - val_loss: 0.6458\n",
      "Epoch 137/400\n",
      "\n",
      "Epoch 137: val_loss did not improve from 0.62379\n",
      "45/45 - 15s - 343ms/step - accuracy: 0.6757 - loss: 0.8291 - val_accuracy: 0.7872 - val_loss: 0.6434\n",
      "Epoch 138/400\n",
      "\n",
      "Epoch 138: val_loss did not improve from 0.62379\n",
      "45/45 - 15s - 335ms/step - accuracy: 0.6778 - loss: 0.8481 - val_accuracy: 0.7856 - val_loss: 0.6489\n",
      "Epoch 139/400\n",
      "\n",
      "Epoch 139: val_loss did not improve from 0.62379\n",
      "45/45 - 16s - 345ms/step - accuracy: 0.6813 - loss: 0.8330 - val_accuracy: 0.7840 - val_loss: 0.6534\n",
      "Epoch 140/400\n",
      "\n",
      "Epoch 140: val_loss did not improve from 0.62379\n",
      "45/45 - 15s - 342ms/step - accuracy: 0.6838 - loss: 0.8388 - val_accuracy: 0.7887 - val_loss: 0.6432\n",
      "Epoch 141/400\n",
      "\n",
      "Epoch 141: val_loss did not improve from 0.62379\n",
      "45/45 - 16s - 350ms/step - accuracy: 0.6701 - loss: 0.8348 - val_accuracy: 0.7872 - val_loss: 0.6395\n",
      "Epoch 142/400\n",
      "\n",
      "Epoch 142: val_loss improved from 0.62379 to 0.62365, saving model to /tmp/checkpoint.h5\n"
     ]
    },
    {
     "name": "stderr",
     "output_type": "stream",
     "text": [
      "WARNING:absl:You are saving your model as an HDF5 file via `model.save()` or `keras.saving.save_model(model)`. This file format is considered legacy. We recommend using instead the native Keras format, e.g. `model.save('my_model.keras')` or `keras.saving.save_model(model, 'my_model.keras')`. \n"
     ]
    },
    {
     "name": "stdout",
     "output_type": "stream",
     "text": [
      "45/45 - 15s - 342ms/step - accuracy: 0.6781 - loss: 0.8250 - val_accuracy: 0.8044 - val_loss: 0.6237\n",
      "Epoch 143/400\n",
      "\n",
      "Epoch 143: val_loss did not improve from 0.62365\n",
      "45/45 - 15s - 341ms/step - accuracy: 0.6785 - loss: 0.8109 - val_accuracy: 0.7997 - val_loss: 0.6263\n",
      "Epoch 144/400\n",
      "\n",
      "Epoch 144: val_loss did not improve from 0.62365\n",
      "45/45 - 16s - 347ms/step - accuracy: 0.6701 - loss: 0.8353 - val_accuracy: 0.7950 - val_loss: 0.6269\n",
      "Epoch 145/400\n",
      "\n",
      "Epoch 145: val_loss did not improve from 0.62365\n",
      "45/45 - 15s - 338ms/step - accuracy: 0.6862 - loss: 0.8124 - val_accuracy: 0.8044 - val_loss: 0.6252\n",
      "Epoch 146/400\n",
      "\n",
      "Epoch 146: val_loss did not improve from 0.62365\n",
      "45/45 - 15s - 338ms/step - accuracy: 0.6827 - loss: 0.8149 - val_accuracy: 0.7856 - val_loss: 0.6334\n",
      "Epoch 147/400\n",
      "\n",
      "Epoch 147: val_loss did not improve from 0.62365\n",
      "45/45 - 15s - 337ms/step - accuracy: 0.6739 - loss: 0.8467 - val_accuracy: 0.8044 - val_loss: 0.6250\n",
      "Epoch 148/400\n",
      "\n",
      "Epoch 148: val_loss did not improve from 0.62365\n",
      "45/45 - 15s - 337ms/step - accuracy: 0.6746 - loss: 0.8194 - val_accuracy: 0.7997 - val_loss: 0.6302\n",
      "Epoch 149/400\n",
      "\n",
      "Epoch 149: val_loss did not improve from 0.62365\n",
      "45/45 - 15s - 340ms/step - accuracy: 0.6866 - loss: 0.7968 - val_accuracy: 0.7997 - val_loss: 0.6302\n",
      "Epoch 150/400\n",
      "\n",
      "Epoch 150: val_loss did not improve from 0.62365\n",
      "45/45 - 16s - 345ms/step - accuracy: 0.6743 - loss: 0.8174 - val_accuracy: 0.7934 - val_loss: 0.6312\n",
      "Epoch 151/400\n",
      "\n",
      "Epoch 151: val_loss did not improve from 0.62365\n",
      "45/45 - 15s - 344ms/step - accuracy: 0.6817 - loss: 0.8101 - val_accuracy: 0.7966 - val_loss: 0.6365\n",
      "Epoch 152/400\n",
      "\n",
      "Epoch 152: val_loss improved from 0.62365 to 0.61896, saving model to /tmp/checkpoint.h5\n"
     ]
    },
    {
     "name": "stderr",
     "output_type": "stream",
     "text": [
      "WARNING:absl:You are saving your model as an HDF5 file via `model.save()` or `keras.saving.save_model(model)`. This file format is considered legacy. We recommend using instead the native Keras format, e.g. `model.save('my_model.keras')` or `keras.saving.save_model(model, 'my_model.keras')`. \n"
     ]
    },
    {
     "name": "stdout",
     "output_type": "stream",
     "text": [
      "45/45 - 14s - 313ms/step - accuracy: 0.6767 - loss: 0.8159 - val_accuracy: 0.8059 - val_loss: 0.6190\n",
      "Epoch 153/400\n",
      "\n",
      "Epoch 153: val_loss did not improve from 0.61896\n",
      "45/45 - 13s - 289ms/step - accuracy: 0.6732 - loss: 0.8297 - val_accuracy: 0.8013 - val_loss: 0.6308\n",
      "Epoch 154/400\n",
      "\n",
      "Epoch 154: val_loss did not improve from 0.61896\n",
      "45/45 - 13s - 287ms/step - accuracy: 0.6711 - loss: 0.8209 - val_accuracy: 0.8122 - val_loss: 0.6270\n",
      "Epoch 155/400\n",
      "\n",
      "Epoch 155: val_loss did not improve from 0.61896\n",
      "45/45 - 13s - 286ms/step - accuracy: 0.6862 - loss: 0.8075 - val_accuracy: 0.8138 - val_loss: 0.6257\n",
      "Epoch 156/400\n",
      "\n",
      "Epoch 156: val_loss did not improve from 0.61896\n",
      "45/45 - 13s - 285ms/step - accuracy: 0.6904 - loss: 0.8127 - val_accuracy: 0.8153 - val_loss: 0.6279\n",
      "Epoch 157/400\n",
      "\n",
      "Epoch 157: val_loss did not improve from 0.61896\n",
      "45/45 - 13s - 284ms/step - accuracy: 0.6918 - loss: 0.8011 - val_accuracy: 0.8138 - val_loss: 0.6241\n",
      "Epoch 158/400\n",
      "\n",
      "Epoch 158: val_loss did not improve from 0.61896\n",
      "45/45 - 13s - 283ms/step - accuracy: 0.6729 - loss: 0.8416 - val_accuracy: 0.8028 - val_loss: 0.6248\n",
      "Epoch 159/400\n",
      "\n",
      "Epoch 159: val_loss did not improve from 0.61896\n",
      "45/45 - 13s - 281ms/step - accuracy: 0.6785 - loss: 0.8242 - val_accuracy: 0.7934 - val_loss: 0.6296\n",
      "Epoch 160/400\n",
      "\n",
      "Epoch 160: val_loss did not improve from 0.61896\n",
      "45/45 - 13s - 288ms/step - accuracy: 0.6725 - loss: 0.8313 - val_accuracy: 0.7903 - val_loss: 0.6253\n",
      "Epoch 161/400\n",
      "\n",
      "Epoch 161: val_loss did not improve from 0.61896\n",
      "45/45 - 13s - 285ms/step - accuracy: 0.6750 - loss: 0.8100 - val_accuracy: 0.7950 - val_loss: 0.6447\n",
      "Epoch 162/400\n",
      "\n",
      "Epoch 162: val_loss did not improve from 0.61896\n",
      "45/45 - 13s - 285ms/step - accuracy: 0.6746 - loss: 0.8147 - val_accuracy: 0.8075 - val_loss: 0.6290\n",
      "Epoch 163/400\n",
      "\n",
      "Epoch 163: val_loss did not improve from 0.61896\n",
      "45/45 - 13s - 287ms/step - accuracy: 0.6894 - loss: 0.8201 - val_accuracy: 0.8075 - val_loss: 0.6296\n",
      "Epoch 164/400\n",
      "\n",
      "Epoch 164: val_loss improved from 0.61896 to 0.61662, saving model to /tmp/checkpoint.h5\n"
     ]
    },
    {
     "name": "stderr",
     "output_type": "stream",
     "text": [
      "WARNING:absl:You are saving your model as an HDF5 file via `model.save()` or `keras.saving.save_model(model)`. This file format is considered legacy. We recommend using instead the native Keras format, e.g. `model.save('my_model.keras')` or `keras.saving.save_model(model, 'my_model.keras')`. \n"
     ]
    },
    {
     "name": "stdout",
     "output_type": "stream",
     "text": [
      "45/45 - 13s - 286ms/step - accuracy: 0.6813 - loss: 0.8042 - val_accuracy: 0.8075 - val_loss: 0.6166\n",
      "Epoch 165/400\n",
      "\n",
      "Epoch 165: val_loss did not improve from 0.61662\n",
      "45/45 - 13s - 286ms/step - accuracy: 0.6866 - loss: 0.8224 - val_accuracy: 0.7903 - val_loss: 0.6233\n",
      "Epoch 166/400\n",
      "\n",
      "Epoch 166: val_loss did not improve from 0.61662\n",
      "45/45 - 13s - 288ms/step - accuracy: 0.6869 - loss: 0.8142 - val_accuracy: 0.7966 - val_loss: 0.6251\n",
      "Epoch 167/400\n",
      "\n",
      "Epoch 167: val_loss did not improve from 0.61662\n",
      "45/45 - 13s - 288ms/step - accuracy: 0.6715 - loss: 0.8139 - val_accuracy: 0.8013 - val_loss: 0.6298\n",
      "Epoch 168/400\n",
      "\n",
      "Epoch 168: val_loss did not improve from 0.61662\n",
      "45/45 - 13s - 287ms/step - accuracy: 0.6887 - loss: 0.8095 - val_accuracy: 0.7966 - val_loss: 0.6317\n",
      "Epoch 169/400\n",
      "\n",
      "Epoch 169: val_loss did not improve from 0.61662\n",
      "45/45 - 13s - 287ms/step - accuracy: 0.6926 - loss: 0.7865 - val_accuracy: 0.7809 - val_loss: 0.6388\n",
      "Epoch 170/400\n",
      "\n",
      "Epoch 170: val_loss did not improve from 0.61662\n",
      "45/45 - 13s - 287ms/step - accuracy: 0.6788 - loss: 0.8169 - val_accuracy: 0.7887 - val_loss: 0.6417\n",
      "Epoch 171/400\n",
      "\n",
      "Epoch 171: val_loss did not improve from 0.61662\n",
      "45/45 - 14s - 301ms/step - accuracy: 0.6799 - loss: 0.8142 - val_accuracy: 0.7997 - val_loss: 0.6255\n",
      "Epoch 172/400\n",
      "\n",
      "Epoch 172: val_loss did not improve from 0.61662\n",
      "45/45 - 14s - 305ms/step - accuracy: 0.6827 - loss: 0.8164 - val_accuracy: 0.8059 - val_loss: 0.6234\n",
      "Epoch 173/400\n",
      "\n",
      "Epoch 173: val_loss did not improve from 0.61662\n",
      "45/45 - 14s - 303ms/step - accuracy: 0.6813 - loss: 0.8218 - val_accuracy: 0.7997 - val_loss: 0.6236\n",
      "Epoch 174/400\n",
      "\n",
      "Epoch 174: val_loss did not improve from 0.61662\n",
      "45/45 - 14s - 301ms/step - accuracy: 0.6743 - loss: 0.8307 - val_accuracy: 0.8075 - val_loss: 0.6188\n",
      "Epoch 175/400\n",
      "\n",
      "Epoch 175: val_loss did not improve from 0.61662\n",
      "45/45 - 15s - 324ms/step - accuracy: 0.6806 - loss: 0.7977 - val_accuracy: 0.7966 - val_loss: 0.6226\n",
      "Epoch 176/400\n",
      "\n",
      "Epoch 176: val_loss did not improve from 0.61662\n",
      "45/45 - 15s - 339ms/step - accuracy: 0.6831 - loss: 0.8322 - val_accuracy: 0.7966 - val_loss: 0.6216\n",
      "Epoch 177/400\n",
      "\n",
      "Epoch 177: val_loss did not improve from 0.61662\n",
      "45/45 - 15s - 341ms/step - accuracy: 0.6806 - loss: 0.8113 - val_accuracy: 0.8044 - val_loss: 0.6183\n",
      "Epoch 178/400\n",
      "\n",
      "Epoch 178: val_loss did not improve from 0.61662\n",
      "45/45 - 15s - 342ms/step - accuracy: 0.6968 - loss: 0.7857 - val_accuracy: 0.8044 - val_loss: 0.6191\n",
      "Epoch 179/400\n",
      "\n",
      "Epoch 179: val_loss did not improve from 0.61662\n",
      "45/45 - 15s - 334ms/step - accuracy: 0.6746 - loss: 0.8438 - val_accuracy: 0.8028 - val_loss: 0.6217\n",
      "Epoch 180/400\n",
      "\n",
      "Epoch 180: val_loss did not improve from 0.61662\n",
      "45/45 - 15s - 331ms/step - accuracy: 0.6623 - loss: 0.8452 - val_accuracy: 0.7981 - val_loss: 0.6384\n",
      "Epoch 181/400\n",
      "\n",
      "Epoch 181: val_loss did not improve from 0.61662\n",
      "45/45 - 15s - 327ms/step - accuracy: 0.6701 - loss: 0.8520 - val_accuracy: 0.8013 - val_loss: 0.6297\n",
      "Epoch 182/400\n",
      "\n",
      "Epoch 182: val_loss did not improve from 0.61662\n",
      "45/45 - 13s - 287ms/step - accuracy: 0.6996 - loss: 0.7981 - val_accuracy: 0.7966 - val_loss: 0.6376\n",
      "Epoch 183/400\n",
      "\n",
      "Epoch 183: val_loss did not improve from 0.61662\n",
      "45/45 - 13s - 286ms/step - accuracy: 0.6788 - loss: 0.8108 - val_accuracy: 0.7950 - val_loss: 0.6319\n",
      "Epoch 184/400\n",
      "\n",
      "Epoch 184: val_loss did not improve from 0.61662\n",
      "45/45 - 13s - 285ms/step - accuracy: 0.6859 - loss: 0.8004 - val_accuracy: 0.7981 - val_loss: 0.6303\n",
      "Epoch 185/400\n",
      "\n",
      "Epoch 185: val_loss did not improve from 0.61662\n",
      "45/45 - 13s - 288ms/step - accuracy: 0.6810 - loss: 0.8031 - val_accuracy: 0.7934 - val_loss: 0.6239\n",
      "Epoch 186/400\n",
      "\n",
      "Epoch 186: val_loss did not improve from 0.61662\n",
      "45/45 - 13s - 285ms/step - accuracy: 0.6918 - loss: 0.8142 - val_accuracy: 0.7950 - val_loss: 0.6366\n",
      "Epoch 187/400\n",
      "\n",
      "Epoch 187: val_loss did not improve from 0.61662\n",
      "45/45 - 13s - 288ms/step - accuracy: 0.6894 - loss: 0.8064 - val_accuracy: 0.7981 - val_loss: 0.6228\n",
      "Epoch 188/400\n",
      "\n",
      "Epoch 188: val_loss did not improve from 0.61662\n",
      "45/45 - 13s - 289ms/step - accuracy: 0.6810 - loss: 0.8228 - val_accuracy: 0.8013 - val_loss: 0.6284\n",
      "Epoch 189/400\n",
      "\n",
      "Epoch 189: val_loss did not improve from 0.61662\n",
      "45/45 - 13s - 285ms/step - accuracy: 0.6852 - loss: 0.8211 - val_accuracy: 0.7966 - val_loss: 0.6259\n",
      "Epoch 190/400\n",
      "\n",
      "Epoch 190: val_loss did not improve from 0.61662\n",
      "45/45 - 13s - 287ms/step - accuracy: 0.6848 - loss: 0.8152 - val_accuracy: 0.7919 - val_loss: 0.6286\n",
      "Epoch 191/400\n",
      "\n",
      "Epoch 191: val_loss did not improve from 0.61662\n",
      "45/45 - 13s - 283ms/step - accuracy: 0.6869 - loss: 0.8094 - val_accuracy: 0.7919 - val_loss: 0.6287\n",
      "Epoch 192/400\n",
      "\n",
      "Epoch 192: val_loss did not improve from 0.61662\n",
      "45/45 - 13s - 285ms/step - accuracy: 0.6767 - loss: 0.8140 - val_accuracy: 0.7934 - val_loss: 0.6200\n",
      "Epoch 193/400\n",
      "\n",
      "Epoch 193: val_loss did not improve from 0.61662\n",
      "45/45 - 13s - 286ms/step - accuracy: 0.7010 - loss: 0.7954 - val_accuracy: 0.7997 - val_loss: 0.6277\n",
      "Epoch 194/400\n",
      "\n",
      "Epoch 194: val_loss improved from 0.61662 to 0.61413, saving model to /tmp/checkpoint.h5\n"
     ]
    },
    {
     "name": "stderr",
     "output_type": "stream",
     "text": [
      "WARNING:absl:You are saving your model as an HDF5 file via `model.save()` or `keras.saving.save_model(model)`. This file format is considered legacy. We recommend using instead the native Keras format, e.g. `model.save('my_model.keras')` or `keras.saving.save_model(model, 'my_model.keras')`. \n"
     ]
    },
    {
     "name": "stdout",
     "output_type": "stream",
     "text": [
      "45/45 - 13s - 292ms/step - accuracy: 0.6866 - loss: 0.8082 - val_accuracy: 0.8044 - val_loss: 0.6141\n",
      "Epoch 195/400\n",
      "\n",
      "Epoch 195: val_loss improved from 0.61413 to 0.60967, saving model to /tmp/checkpoint.h5\n"
     ]
    },
    {
     "name": "stderr",
     "output_type": "stream",
     "text": [
      "WARNING:absl:You are saving your model as an HDF5 file via `model.save()` or `keras.saving.save_model(model)`. This file format is considered legacy. We recommend using instead the native Keras format, e.g. `model.save('my_model.keras')` or `keras.saving.save_model(model, 'my_model.keras')`. \n"
     ]
    },
    {
     "name": "stdout",
     "output_type": "stream",
     "text": [
      "45/45 - 13s - 288ms/step - accuracy: 0.6947 - loss: 0.7877 - val_accuracy: 0.8122 - val_loss: 0.6097\n",
      "Epoch 196/400\n",
      "\n",
      "Epoch 196: val_loss did not improve from 0.60967\n",
      "45/45 - 13s - 287ms/step - accuracy: 0.6792 - loss: 0.7940 - val_accuracy: 0.7981 - val_loss: 0.6158\n",
      "Epoch 197/400\n",
      "\n",
      "Epoch 197: val_loss did not improve from 0.60967\n",
      "45/45 - 14s - 309ms/step - accuracy: 0.6655 - loss: 0.8386 - val_accuracy: 0.8122 - val_loss: 0.6183\n",
      "Epoch 198/400\n",
      "\n",
      "Epoch 198: val_loss did not improve from 0.60967\n",
      "45/45 - 14s - 301ms/step - accuracy: 0.6964 - loss: 0.7997 - val_accuracy: 0.8028 - val_loss: 0.6156\n",
      "Epoch 199/400\n",
      "\n",
      "Epoch 199: val_loss did not improve from 0.60967\n",
      "45/45 - 13s - 299ms/step - accuracy: 0.7020 - loss: 0.7938 - val_accuracy: 0.7997 - val_loss: 0.6127\n",
      "Epoch 200/400\n",
      "\n",
      "Epoch 200: val_loss did not improve from 0.60967\n",
      "45/45 - 13s - 299ms/step - accuracy: 0.6729 - loss: 0.7947 - val_accuracy: 0.7934 - val_loss: 0.6135\n",
      "Epoch 201/400\n",
      "\n",
      "Epoch 201: val_loss did not improve from 0.60967\n",
      "45/45 - 14s - 302ms/step - accuracy: 0.6866 - loss: 0.8149 - val_accuracy: 0.8013 - val_loss: 0.6172\n",
      "Epoch 202/400\n",
      "\n",
      "Epoch 202: val_loss did not improve from 0.60967\n",
      "45/45 - 13s - 298ms/step - accuracy: 0.6926 - loss: 0.7908 - val_accuracy: 0.8044 - val_loss: 0.6187\n",
      "Epoch 203/400\n",
      "\n",
      "Epoch 203: val_loss did not improve from 0.60967\n",
      "45/45 - 13s - 300ms/step - accuracy: 0.6778 - loss: 0.8191 - val_accuracy: 0.7903 - val_loss: 0.6291\n",
      "Epoch 204/400\n",
      "\n",
      "Epoch 204: val_loss did not improve from 0.60967\n",
      "45/45 - 13s - 297ms/step - accuracy: 0.6908 - loss: 0.8029 - val_accuracy: 0.8028 - val_loss: 0.6179\n",
      "Epoch 205/400\n",
      "\n",
      "Epoch 205: val_loss did not improve from 0.60967\n",
      "45/45 - 13s - 299ms/step - accuracy: 0.6774 - loss: 0.8254 - val_accuracy: 0.8059 - val_loss: 0.6180\n",
      "Epoch 206/400\n",
      "\n",
      "Epoch 206: val_loss did not improve from 0.60967\n",
      "45/45 - 13s - 300ms/step - accuracy: 0.6936 - loss: 0.7991 - val_accuracy: 0.7981 - val_loss: 0.6292\n",
      "Epoch 207/400\n",
      "\n",
      "Epoch 207: val_loss did not improve from 0.60967\n",
      "45/45 - 13s - 297ms/step - accuracy: 0.6873 - loss: 0.8186 - val_accuracy: 0.8028 - val_loss: 0.6282\n",
      "Epoch 208/400\n",
      "\n",
      "Epoch 208: val_loss did not improve from 0.60967\n",
      "45/45 - 13s - 300ms/step - accuracy: 0.6803 - loss: 0.8078 - val_accuracy: 0.7966 - val_loss: 0.6186\n",
      "Epoch 209/400\n",
      "\n",
      "Epoch 209: val_loss did not improve from 0.60967\n",
      "45/45 - 13s - 299ms/step - accuracy: 0.6866 - loss: 0.7911 - val_accuracy: 0.8091 - val_loss: 0.6196\n",
      "Epoch 210/400\n",
      "\n",
      "Epoch 210: val_loss did not improve from 0.60967\n",
      "45/45 - 13s - 297ms/step - accuracy: 0.6813 - loss: 0.7792 - val_accuracy: 0.7934 - val_loss: 0.6317\n",
      "Epoch 211/400\n",
      "\n",
      "Epoch 211: val_loss did not improve from 0.60967\n",
      "45/45 - 14s - 300ms/step - accuracy: 0.6894 - loss: 0.8050 - val_accuracy: 0.7731 - val_loss: 0.6551\n",
      "Epoch 212/400\n",
      "\n",
      "Epoch 212: val_loss did not improve from 0.60967\n",
      "45/45 - 13s - 298ms/step - accuracy: 0.6813 - loss: 0.8183 - val_accuracy: 0.7809 - val_loss: 0.6396\n",
      "Epoch 213/400\n",
      "\n",
      "Epoch 213: val_loss did not improve from 0.60967\n",
      "45/45 - 13s - 295ms/step - accuracy: 0.6831 - loss: 0.8128 - val_accuracy: 0.7684 - val_loss: 0.6500\n",
      "Epoch 214/400\n",
      "\n",
      "Epoch 214: val_loss did not improve from 0.60967\n",
      "45/45 - 13s - 299ms/step - accuracy: 0.6985 - loss: 0.7960 - val_accuracy: 0.7903 - val_loss: 0.6437\n",
      "Epoch 215/400\n",
      "\n",
      "Epoch 215: val_loss did not improve from 0.60967\n",
      "45/45 - 13s - 299ms/step - accuracy: 0.6954 - loss: 0.7866 - val_accuracy: 0.7966 - val_loss: 0.6277\n",
      "Epoch 216/400\n",
      "\n",
      "Epoch 216: val_loss did not improve from 0.60967\n",
      "45/45 - 13s - 300ms/step - accuracy: 0.7006 - loss: 0.8081 - val_accuracy: 0.7934 - val_loss: 0.6278\n",
      "Epoch 217/400\n",
      "\n",
      "Epoch 217: val_loss did not improve from 0.60967\n",
      "45/45 - 13s - 298ms/step - accuracy: 0.6968 - loss: 0.7990 - val_accuracy: 0.8028 - val_loss: 0.6314\n",
      "Epoch 218/400\n",
      "\n",
      "Epoch 218: val_loss did not improve from 0.60967\n",
      "45/45 - 14s - 302ms/step - accuracy: 0.6901 - loss: 0.7901 - val_accuracy: 0.8028 - val_loss: 0.6258\n",
      "Epoch 219/400\n",
      "\n",
      "Epoch 219: val_loss did not improve from 0.60967\n",
      "45/45 - 13s - 297ms/step - accuracy: 0.6982 - loss: 0.7820 - val_accuracy: 0.8028 - val_loss: 0.6285\n",
      "Epoch 220/400\n",
      "\n",
      "Epoch 220: val_loss did not improve from 0.60967\n",
      "45/45 - 15s - 329ms/step - accuracy: 0.6774 - loss: 0.8308 - val_accuracy: 0.8028 - val_loss: 0.6260\n",
      "Epoch 221/400\n",
      "\n",
      "Epoch 221: val_loss did not improve from 0.60967\n",
      "45/45 - 15s - 340ms/step - accuracy: 0.6904 - loss: 0.7714 - val_accuracy: 0.7981 - val_loss: 0.6276\n",
      "Epoch 222/400\n",
      "\n",
      "Epoch 222: val_loss did not improve from 0.60967\n",
      "45/45 - 16s - 350ms/step - accuracy: 0.6841 - loss: 0.8087 - val_accuracy: 0.7934 - val_loss: 0.6339\n",
      "Epoch 223/400\n",
      "\n",
      "Epoch 223: val_loss did not improve from 0.60967\n",
      "45/45 - 15s - 336ms/step - accuracy: 0.6933 - loss: 0.7891 - val_accuracy: 0.8013 - val_loss: 0.6297\n",
      "Epoch 224/400\n",
      "\n",
      "Epoch 224: val_loss did not improve from 0.60967\n",
      "45/45 - 15s - 332ms/step - accuracy: 0.6820 - loss: 0.8281 - val_accuracy: 0.7887 - val_loss: 0.6410\n",
      "Epoch 225/400\n",
      "\n",
      "Epoch 225: val_loss did not improve from 0.60967\n",
      "45/45 - 15s - 330ms/step - accuracy: 0.6950 - loss: 0.8046 - val_accuracy: 0.7934 - val_loss: 0.6339\n",
      "Epoch 226/400\n",
      "\n",
      "Epoch 226: val_loss did not improve from 0.60967\n",
      "45/45 - 15s - 335ms/step - accuracy: 0.6796 - loss: 0.8039 - val_accuracy: 0.7997 - val_loss: 0.6342\n",
      "Epoch 227/400\n",
      "\n",
      "Epoch 227: val_loss did not improve from 0.60967\n",
      "45/45 - 15s - 330ms/step - accuracy: 0.6757 - loss: 0.8302 - val_accuracy: 0.7981 - val_loss: 0.6316\n",
      "Epoch 228/400\n",
      "\n",
      "Epoch 228: val_loss did not improve from 0.60967\n",
      "45/45 - 15s - 338ms/step - accuracy: 0.6799 - loss: 0.8330 - val_accuracy: 0.7981 - val_loss: 0.6360\n",
      "Epoch 229/400\n",
      "\n",
      "Epoch 229: val_loss did not improve from 0.60967\n",
      "45/45 - 15s - 333ms/step - accuracy: 0.6824 - loss: 0.7965 - val_accuracy: 0.8013 - val_loss: 0.6244\n",
      "Epoch 230/400\n",
      "\n",
      "Epoch 230: val_loss did not improve from 0.60967\n",
      "45/45 - 15s - 338ms/step - accuracy: 0.7066 - loss: 0.7941 - val_accuracy: 0.7981 - val_loss: 0.6265\n",
      "Epoch 231/400\n",
      "\n",
      "Epoch 231: val_loss did not improve from 0.60967\n",
      "45/45 - 15s - 333ms/step - accuracy: 0.6831 - loss: 0.7991 - val_accuracy: 0.7950 - val_loss: 0.6375\n",
      "Epoch 232/400\n",
      "\n",
      "Epoch 232: val_loss did not improve from 0.60967\n",
      "45/45 - 15s - 339ms/step - accuracy: 0.6933 - loss: 0.7890 - val_accuracy: 0.7966 - val_loss: 0.6277\n",
      "Epoch 233/400\n",
      "\n",
      "Epoch 233: val_loss did not improve from 0.60967\n",
      "45/45 - 15s - 337ms/step - accuracy: 0.6831 - loss: 0.8231 - val_accuracy: 0.7872 - val_loss: 0.6296\n",
      "Epoch 234/400\n",
      "\n",
      "Epoch 234: val_loss did not improve from 0.60967\n",
      "45/45 - 15s - 338ms/step - accuracy: 0.6894 - loss: 0.7932 - val_accuracy: 0.7887 - val_loss: 0.6320\n",
      "Epoch 235/400\n",
      "\n",
      "Epoch 235: val_loss did not improve from 0.60967\n",
      "45/45 - 15s - 336ms/step - accuracy: 0.6915 - loss: 0.8124 - val_accuracy: 0.7793 - val_loss: 0.6254\n",
      "Epoch 236/400\n",
      "\n",
      "Epoch 236: val_loss did not improve from 0.60967\n",
      "45/45 - 15s - 338ms/step - accuracy: 0.6824 - loss: 0.8136 - val_accuracy: 0.8013 - val_loss: 0.6249\n",
      "Epoch 237/400\n",
      "\n",
      "Epoch 237: val_loss did not improve from 0.60967\n",
      "45/45 - 15s - 334ms/step - accuracy: 0.6834 - loss: 0.8230 - val_accuracy: 0.7966 - val_loss: 0.6261\n",
      "Epoch 238/400\n",
      "\n",
      "Epoch 238: val_loss did not improve from 0.60967\n",
      "45/45 - 15s - 333ms/step - accuracy: 0.6978 - loss: 0.7949 - val_accuracy: 0.7934 - val_loss: 0.6270\n",
      "Epoch 239/400\n",
      "\n",
      "Epoch 239: val_loss did not improve from 0.60967\n",
      "45/45 - 15s - 337ms/step - accuracy: 0.6890 - loss: 0.8111 - val_accuracy: 0.8059 - val_loss: 0.6197\n",
      "Epoch 240/400\n",
      "\n",
      "Epoch 240: val_loss did not improve from 0.60967\n",
      "45/45 - 15s - 336ms/step - accuracy: 0.6915 - loss: 0.7936 - val_accuracy: 0.8028 - val_loss: 0.6226\n",
      "Epoch 241/400\n",
      "\n",
      "Epoch 241: val_loss did not improve from 0.60967\n",
      "45/45 - 15s - 342ms/step - accuracy: 0.6862 - loss: 0.8181 - val_accuracy: 0.8028 - val_loss: 0.6236\n",
      "Epoch 242/400\n",
      "\n",
      "Epoch 242: val_loss did not improve from 0.60967\n",
      "45/45 - 15s - 335ms/step - accuracy: 0.6890 - loss: 0.7965 - val_accuracy: 0.8122 - val_loss: 0.6263\n",
      "Epoch 243/400\n",
      "\n",
      "Epoch 243: val_loss did not improve from 0.60967\n",
      "45/45 - 15s - 336ms/step - accuracy: 0.6806 - loss: 0.8255 - val_accuracy: 0.7997 - val_loss: 0.6232\n",
      "Epoch 244/400\n",
      "\n",
      "Epoch 244: val_loss did not improve from 0.60967\n",
      "45/45 - 15s - 341ms/step - accuracy: 0.6767 - loss: 0.8264 - val_accuracy: 0.7919 - val_loss: 0.6266\n",
      "Epoch 245/400\n",
      "\n",
      "Epoch 245: val_loss did not improve from 0.60967\n",
      "45/45 - 15s - 342ms/step - accuracy: 0.6929 - loss: 0.8021 - val_accuracy: 0.7934 - val_loss: 0.6301\n",
      "Epoch 246/400\n",
      "\n",
      "Epoch 246: val_loss did not improve from 0.60967\n",
      "45/45 - 15s - 335ms/step - accuracy: 0.6876 - loss: 0.8049 - val_accuracy: 0.7872 - val_loss: 0.6327\n",
      "Epoch 247/400\n",
      "\n",
      "Epoch 247: val_loss did not improve from 0.60967\n",
      "45/45 - 15s - 333ms/step - accuracy: 0.6894 - loss: 0.7903 - val_accuracy: 0.7966 - val_loss: 0.6330\n",
      "Epoch 248/400\n",
      "\n",
      "Epoch 248: val_loss did not improve from 0.60967\n",
      "45/45 - 15s - 333ms/step - accuracy: 0.6855 - loss: 0.7960 - val_accuracy: 0.7778 - val_loss: 0.6462\n",
      "Epoch 249/400\n",
      "\n",
      "Epoch 249: val_loss did not improve from 0.60967\n",
      "45/45 - 15s - 340ms/step - accuracy: 0.6774 - loss: 0.8177 - val_accuracy: 0.7934 - val_loss: 0.6261\n",
      "Epoch 250/400\n",
      "\n",
      "Epoch 250: val_loss did not improve from 0.60967\n",
      "45/45 - 15s - 343ms/step - accuracy: 0.6957 - loss: 0.7870 - val_accuracy: 0.7981 - val_loss: 0.6148\n",
      "Epoch 251/400\n",
      "\n",
      "Epoch 251: val_loss did not improve from 0.60967\n",
      "45/45 - 15s - 343ms/step - accuracy: 0.6901 - loss: 0.7952 - val_accuracy: 0.7981 - val_loss: 0.6339\n",
      "Epoch 252/400\n",
      "\n",
      "Epoch 252: val_loss did not improve from 0.60967\n",
      "45/45 - 15s - 344ms/step - accuracy: 0.6859 - loss: 0.8193 - val_accuracy: 0.8138 - val_loss: 0.6204\n",
      "Epoch 253/400\n",
      "\n",
      "Epoch 253: val_loss did not improve from 0.60967\n",
      "45/45 - 16s - 350ms/step - accuracy: 0.6848 - loss: 0.8179 - val_accuracy: 0.8013 - val_loss: 0.6304\n",
      "Epoch 254/400\n",
      "\n",
      "Epoch 254: val_loss did not improve from 0.60967\n",
      "45/45 - 15s - 342ms/step - accuracy: 0.6911 - loss: 0.7952 - val_accuracy: 0.8044 - val_loss: 0.6270\n",
      "Epoch 255/400\n",
      "\n",
      "Epoch 255: val_loss did not improve from 0.60967\n",
      "45/45 - 16s - 349ms/step - accuracy: 0.6947 - loss: 0.7915 - val_accuracy: 0.8013 - val_loss: 0.6269\n",
      "Epoch 256/400\n",
      "\n",
      "Epoch 256: val_loss did not improve from 0.60967\n",
      "45/45 - 15s - 340ms/step - accuracy: 0.6869 - loss: 0.7830 - val_accuracy: 0.8153 - val_loss: 0.6227\n",
      "Epoch 257/400\n",
      "\n",
      "Epoch 257: val_loss did not improve from 0.60967\n",
      "45/45 - 15s - 337ms/step - accuracy: 0.6855 - loss: 0.8133 - val_accuracy: 0.8028 - val_loss: 0.6385\n",
      "Epoch 258/400\n",
      "\n",
      "Epoch 258: val_loss did not improve from 0.60967\n",
      "45/45 - 15s - 339ms/step - accuracy: 0.6845 - loss: 0.8000 - val_accuracy: 0.7919 - val_loss: 0.6383\n",
      "Epoch 259/400\n",
      "\n",
      "Epoch 259: val_loss did not improve from 0.60967\n",
      "45/45 - 16s - 349ms/step - accuracy: 0.6876 - loss: 0.7910 - val_accuracy: 0.7934 - val_loss: 0.6260\n",
      "Epoch 260/400\n",
      "\n",
      "Epoch 260: val_loss did not improve from 0.60967\n",
      "45/45 - 15s - 335ms/step - accuracy: 0.6732 - loss: 0.8128 - val_accuracy: 0.8044 - val_loss: 0.6405\n",
      "Epoch 261/400\n",
      "\n",
      "Epoch 261: val_loss did not improve from 0.60967\n",
      "45/45 - 15s - 343ms/step - accuracy: 0.6908 - loss: 0.8098 - val_accuracy: 0.7903 - val_loss: 0.6491\n",
      "Epoch 262/400\n",
      "\n",
      "Epoch 262: val_loss did not improve from 0.60967\n",
      "45/45 - 15s - 334ms/step - accuracy: 0.7080 - loss: 0.7875 - val_accuracy: 0.7934 - val_loss: 0.6403\n",
      "Epoch 263/400\n",
      "\n",
      "Epoch 263: val_loss did not improve from 0.60967\n",
      "45/45 - 15s - 339ms/step - accuracy: 0.6964 - loss: 0.7935 - val_accuracy: 0.7856 - val_loss: 0.6350\n",
      "Epoch 264/400\n",
      "\n",
      "Epoch 264: val_loss did not improve from 0.60967\n",
      "45/45 - 15s - 338ms/step - accuracy: 0.6985 - loss: 0.7851 - val_accuracy: 0.7887 - val_loss: 0.6384\n",
      "Epoch 265/400\n",
      "\n",
      "Epoch 265: val_loss did not improve from 0.60967\n",
      "45/45 - 15s - 336ms/step - accuracy: 0.6855 - loss: 0.7708 - val_accuracy: 0.7997 - val_loss: 0.6304\n",
      "Epoch 266/400\n",
      "\n",
      "Epoch 266: val_loss did not improve from 0.60967\n",
      "45/45 - 15s - 332ms/step - accuracy: 0.6876 - loss: 0.8046 - val_accuracy: 0.8091 - val_loss: 0.6320\n",
      "Epoch 267/400\n",
      "\n",
      "Epoch 267: val_loss did not improve from 0.60967\n",
      "45/45 - 15s - 338ms/step - accuracy: 0.6869 - loss: 0.8083 - val_accuracy: 0.7997 - val_loss: 0.6406\n",
      "Epoch 268/400\n",
      "\n",
      "Epoch 268: val_loss did not improve from 0.60967\n",
      "45/45 - 15s - 337ms/step - accuracy: 0.7027 - loss: 0.7699 - val_accuracy: 0.8075 - val_loss: 0.6298\n",
      "Epoch 269/400\n",
      "\n",
      "Epoch 269: val_loss did not improve from 0.60967\n",
      "45/45 - 15s - 335ms/step - accuracy: 0.6869 - loss: 0.8152 - val_accuracy: 0.7966 - val_loss: 0.6407\n",
      "Epoch 270/400\n",
      "\n",
      "Epoch 270: val_loss did not improve from 0.60967\n",
      "45/45 - 15s - 341ms/step - accuracy: 0.6743 - loss: 0.8161 - val_accuracy: 0.7981 - val_loss: 0.6355\n",
      "Epoch 271/400\n",
      "\n",
      "Epoch 271: val_loss did not improve from 0.60967\n",
      "45/45 - 15s - 338ms/step - accuracy: 0.6996 - loss: 0.7715 - val_accuracy: 0.7903 - val_loss: 0.6352\n",
      "Epoch 272/400\n",
      "\n",
      "Epoch 272: val_loss did not improve from 0.60967\n",
      "45/45 - 15s - 335ms/step - accuracy: 0.6880 - loss: 0.8101 - val_accuracy: 0.7997 - val_loss: 0.6389\n",
      "Epoch 273/400\n",
      "\n",
      "Epoch 273: val_loss did not improve from 0.60967\n",
      "45/45 - 15s - 339ms/step - accuracy: 0.6901 - loss: 0.7844 - val_accuracy: 0.7887 - val_loss: 0.6414\n",
      "Epoch 274/400\n",
      "\n",
      "Epoch 274: val_loss did not improve from 0.60967\n",
      "45/45 - 15s - 335ms/step - accuracy: 0.6869 - loss: 0.8007 - val_accuracy: 0.7903 - val_loss: 0.6316\n",
      "Epoch 275/400\n",
      "\n",
      "Epoch 275: val_loss did not improve from 0.60967\n",
      "45/45 - 15s - 335ms/step - accuracy: 0.6929 - loss: 0.8248 - val_accuracy: 0.8028 - val_loss: 0.6240\n",
      "Epoch 276/400\n",
      "\n",
      "Epoch 276: val_loss did not improve from 0.60967\n",
      "45/45 - 15s - 339ms/step - accuracy: 0.6880 - loss: 0.7841 - val_accuracy: 0.8028 - val_loss: 0.6272\n",
      "Epoch 277/400\n",
      "\n",
      "Epoch 277: val_loss did not improve from 0.60967\n",
      "45/45 - 15s - 337ms/step - accuracy: 0.6862 - loss: 0.7926 - val_accuracy: 0.8013 - val_loss: 0.6366\n",
      "Epoch 278/400\n",
      "\n",
      "Epoch 278: val_loss did not improve from 0.60967\n",
      "45/45 - 15s - 337ms/step - accuracy: 0.6803 - loss: 0.8042 - val_accuracy: 0.7950 - val_loss: 0.6267\n",
      "Epoch 279/400\n",
      "\n",
      "Epoch 279: val_loss did not improve from 0.60967\n",
      "45/45 - 15s - 338ms/step - accuracy: 0.6838 - loss: 0.8265 - val_accuracy: 0.7903 - val_loss: 0.6232\n",
      "Epoch 280/400\n",
      "\n",
      "Epoch 280: val_loss did not improve from 0.60967\n",
      "45/45 - 15s - 331ms/step - accuracy: 0.6915 - loss: 0.8057 - val_accuracy: 0.7872 - val_loss: 0.6338\n",
      "Epoch 281/400\n",
      "\n",
      "Epoch 281: val_loss did not improve from 0.60967\n",
      "45/45 - 15s - 335ms/step - accuracy: 0.6971 - loss: 0.7832 - val_accuracy: 0.7919 - val_loss: 0.6302\n",
      "Epoch 282/400\n",
      "\n",
      "Epoch 282: val_loss did not improve from 0.60967\n",
      "45/45 - 15s - 341ms/step - accuracy: 0.6968 - loss: 0.7693 - val_accuracy: 0.8059 - val_loss: 0.6323\n",
      "Epoch 283/400\n",
      "\n",
      "Epoch 283: val_loss did not improve from 0.60967\n",
      "45/45 - 15s - 339ms/step - accuracy: 0.7003 - loss: 0.8041 - val_accuracy: 0.7919 - val_loss: 0.6373\n",
      "Epoch 284/400\n",
      "\n",
      "Epoch 284: val_loss did not improve from 0.60967\n",
      "45/45 - 15s - 335ms/step - accuracy: 0.7098 - loss: 0.7618 - val_accuracy: 0.7887 - val_loss: 0.6321\n",
      "Epoch 285/400\n",
      "\n",
      "Epoch 285: val_loss did not improve from 0.60967\n",
      "45/45 - 15s - 335ms/step - accuracy: 0.6869 - loss: 0.7917 - val_accuracy: 0.8028 - val_loss: 0.6271\n",
      "Epoch 286/400\n",
      "\n",
      "Epoch 286: val_loss did not improve from 0.60967\n",
      "45/45 - 15s - 336ms/step - accuracy: 0.6883 - loss: 0.7909 - val_accuracy: 0.7903 - val_loss: 0.6354\n",
      "Epoch 287/400\n",
      "\n",
      "Epoch 287: val_loss did not improve from 0.60967\n",
      "45/45 - 15s - 342ms/step - accuracy: 0.6957 - loss: 0.7995 - val_accuracy: 0.7872 - val_loss: 0.6443\n",
      "Epoch 288/400\n",
      "\n",
      "Epoch 288: val_loss did not improve from 0.60967\n",
      "45/45 - 15s - 340ms/step - accuracy: 0.6926 - loss: 0.8048 - val_accuracy: 0.8028 - val_loss: 0.6264\n",
      "Epoch 289/400\n",
      "\n",
      "Epoch 289: val_loss did not improve from 0.60967\n",
      "45/45 - 15s - 336ms/step - accuracy: 0.6869 - loss: 0.7988 - val_accuracy: 0.7809 - val_loss: 0.6484\n",
      "Epoch 290/400\n",
      "\n",
      "Epoch 290: val_loss did not improve from 0.60967\n",
      "45/45 - 15s - 334ms/step - accuracy: 0.6866 - loss: 0.7849 - val_accuracy: 0.7903 - val_loss: 0.6343\n",
      "Epoch 291/400\n",
      "\n",
      "Epoch 291: val_loss did not improve from 0.60967\n",
      "45/45 - 15s - 341ms/step - accuracy: 0.6796 - loss: 0.8064 - val_accuracy: 0.7715 - val_loss: 0.6511\n",
      "Epoch 292/400\n",
      "\n",
      "Epoch 292: val_loss did not improve from 0.60967\n",
      "45/45 - 15s - 338ms/step - accuracy: 0.6859 - loss: 0.8015 - val_accuracy: 0.7793 - val_loss: 0.6458\n",
      "Epoch 293/400\n",
      "\n",
      "Epoch 293: val_loss did not improve from 0.60967\n",
      "45/45 - 15s - 337ms/step - accuracy: 0.6918 - loss: 0.7777 - val_accuracy: 0.7793 - val_loss: 0.6471\n",
      "Epoch 294/400\n",
      "\n",
      "Epoch 294: val_loss did not improve from 0.60967\n",
      "45/45 - 15s - 334ms/step - accuracy: 0.6803 - loss: 0.8061 - val_accuracy: 0.7997 - val_loss: 0.6266\n",
      "Epoch 295/400\n",
      "\n",
      "Epoch 295: val_loss did not improve from 0.60967\n",
      "45/45 - 15s - 338ms/step - accuracy: 0.6873 - loss: 0.7776 - val_accuracy: 0.8028 - val_loss: 0.6187\n",
      "Epoch 296/400\n",
      "\n",
      "Epoch 296: val_loss did not improve from 0.60967\n",
      "45/45 - 15s - 343ms/step - accuracy: 0.7006 - loss: 0.8132 - val_accuracy: 0.7903 - val_loss: 0.6270\n",
      "Epoch 297/400\n",
      "\n",
      "Epoch 297: val_loss did not improve from 0.60967\n",
      "45/45 - 15s - 340ms/step - accuracy: 0.6767 - loss: 0.8018 - val_accuracy: 0.7981 - val_loss: 0.6255\n",
      "Epoch 298/400\n",
      "\n",
      "Epoch 298: val_loss did not improve from 0.60967\n",
      "45/45 - 15s - 339ms/step - accuracy: 0.6890 - loss: 0.7955 - val_accuracy: 0.7762 - val_loss: 0.6501\n",
      "Epoch 299/400\n",
      "\n",
      "Epoch 299: val_loss did not improve from 0.60967\n",
      "45/45 - 13s - 291ms/step - accuracy: 0.6736 - loss: 0.8143 - val_accuracy: 0.7778 - val_loss: 0.6452\n",
      "Epoch 300/400\n",
      "\n",
      "Epoch 300: val_loss did not improve from 0.60967\n",
      "45/45 - 13s - 290ms/step - accuracy: 0.6848 - loss: 0.7908 - val_accuracy: 0.7919 - val_loss: 0.6310\n",
      "Epoch 301/400\n",
      "\n",
      "Epoch 301: val_loss did not improve from 0.60967\n",
      "45/45 - 13s - 284ms/step - accuracy: 0.7003 - loss: 0.7887 - val_accuracy: 0.7872 - val_loss: 0.6334\n",
      "Epoch 302/400\n",
      "\n",
      "Epoch 302: val_loss did not improve from 0.60967\n",
      "45/45 - 13s - 290ms/step - accuracy: 0.6964 - loss: 0.7873 - val_accuracy: 0.7950 - val_loss: 0.6318\n",
      "Epoch 303/400\n",
      "\n",
      "Epoch 303: val_loss did not improve from 0.60967\n",
      "45/45 - 13s - 292ms/step - accuracy: 0.6796 - loss: 0.8109 - val_accuracy: 0.7934 - val_loss: 0.6260\n",
      "Epoch 304/400\n",
      "\n",
      "Epoch 304: val_loss did not improve from 0.60967\n",
      "45/45 - 13s - 289ms/step - accuracy: 0.6897 - loss: 0.7863 - val_accuracy: 0.7950 - val_loss: 0.6268\n",
      "Epoch 305/400\n",
      "\n",
      "Epoch 305: val_loss did not improve from 0.60967\n",
      "45/45 - 13s - 289ms/step - accuracy: 0.6838 - loss: 0.8242 - val_accuracy: 0.8106 - val_loss: 0.6316\n",
      "Epoch 306/400\n",
      "\n",
      "Epoch 306: val_loss did not improve from 0.60967\n",
      "45/45 - 13s - 291ms/step - accuracy: 0.6852 - loss: 0.8020 - val_accuracy: 0.7793 - val_loss: 0.6446\n",
      "Epoch 307/400\n",
      "\n",
      "Epoch 307: val_loss did not improve from 0.60967\n",
      "45/45 - 13s - 291ms/step - accuracy: 0.6957 - loss: 0.7933 - val_accuracy: 0.8028 - val_loss: 0.6339\n",
      "Epoch 308/400\n",
      "\n",
      "Epoch 308: val_loss did not improve from 0.60967\n",
      "45/45 - 13s - 289ms/step - accuracy: 0.6876 - loss: 0.7909 - val_accuracy: 0.8028 - val_loss: 0.6311\n",
      "Epoch 309/400\n",
      "\n",
      "Epoch 309: val_loss did not improve from 0.60967\n",
      "45/45 - 13s - 294ms/step - accuracy: 0.6943 - loss: 0.7901 - val_accuracy: 0.8028 - val_loss: 0.6310\n",
      "Epoch 310/400\n",
      "\n",
      "Epoch 310: val_loss did not improve from 0.60967\n",
      "45/45 - 13s - 291ms/step - accuracy: 0.6866 - loss: 0.7851 - val_accuracy: 0.8044 - val_loss: 0.6281\n",
      "Epoch 311/400\n",
      "\n",
      "Epoch 311: val_loss did not improve from 0.60967\n",
      "45/45 - 13s - 290ms/step - accuracy: 0.6943 - loss: 0.7919 - val_accuracy: 0.7809 - val_loss: 0.6457\n",
      "Epoch 312/400\n",
      "\n",
      "Epoch 312: val_loss did not improve from 0.60967\n",
      "45/45 - 13s - 296ms/step - accuracy: 0.6831 - loss: 0.8015 - val_accuracy: 0.7778 - val_loss: 0.6483\n",
      "Epoch 313/400\n",
      "\n",
      "Epoch 313: val_loss did not improve from 0.60967\n",
      "45/45 - 13s - 293ms/step - accuracy: 0.6831 - loss: 0.8086 - val_accuracy: 0.7731 - val_loss: 0.6632\n",
      "Epoch 314/400\n",
      "\n",
      "Epoch 314: val_loss did not improve from 0.60967\n",
      "45/45 - 13s - 292ms/step - accuracy: 0.6827 - loss: 0.8113 - val_accuracy: 0.7981 - val_loss: 0.6432\n",
      "Epoch 315/400\n",
      "\n",
      "Epoch 315: val_loss did not improve from 0.60967\n",
      "45/45 - 13s - 292ms/step - accuracy: 0.6985 - loss: 0.8033 - val_accuracy: 0.7934 - val_loss: 0.6527\n",
      "Epoch 316/400\n",
      "\n",
      "Epoch 316: val_loss did not improve from 0.60967\n",
      "45/45 - 13s - 291ms/step - accuracy: 0.6929 - loss: 0.7939 - val_accuracy: 0.7887 - val_loss: 0.6490\n",
      "Epoch 317/400\n",
      "\n",
      "Epoch 317: val_loss did not improve from 0.60967\n",
      "45/45 - 13s - 288ms/step - accuracy: 0.6883 - loss: 0.7952 - val_accuracy: 0.8013 - val_loss: 0.6302\n",
      "Epoch 318/400\n",
      "\n",
      "Epoch 318: val_loss did not improve from 0.60967\n",
      "45/45 - 13s - 291ms/step - accuracy: 0.6908 - loss: 0.7845 - val_accuracy: 0.7981 - val_loss: 0.6373\n",
      "Epoch 319/400\n",
      "\n",
      "Epoch 319: val_loss did not improve from 0.60967\n",
      "45/45 - 13s - 291ms/step - accuracy: 0.6862 - loss: 0.7977 - val_accuracy: 0.7840 - val_loss: 0.6491\n",
      "Epoch 320/400\n",
      "\n",
      "Epoch 320: val_loss did not improve from 0.60967\n",
      "45/45 - 13s - 288ms/step - accuracy: 0.6947 - loss: 0.7830 - val_accuracy: 0.7934 - val_loss: 0.6418\n",
      "Epoch 321/400\n",
      "\n",
      "Epoch 321: val_loss did not improve from 0.60967\n",
      "45/45 - 13s - 291ms/step - accuracy: 0.6887 - loss: 0.7795 - val_accuracy: 0.7981 - val_loss: 0.6286\n",
      "Epoch 322/400\n",
      "\n",
      "Epoch 322: val_loss did not improve from 0.60967\n",
      "45/45 - 13s - 290ms/step - accuracy: 0.6922 - loss: 0.8071 - val_accuracy: 0.8013 - val_loss: 0.6248\n",
      "Epoch 323/400\n",
      "\n",
      "Epoch 323: val_loss did not improve from 0.60967\n",
      "45/45 - 13s - 291ms/step - accuracy: 0.6883 - loss: 0.7965 - val_accuracy: 0.8091 - val_loss: 0.6314\n",
      "Epoch 324/400\n",
      "\n",
      "Epoch 324: val_loss did not improve from 0.60967\n",
      "45/45 - 13s - 286ms/step - accuracy: 0.6957 - loss: 0.7929 - val_accuracy: 0.7856 - val_loss: 0.6378\n",
      "Epoch 325/400\n",
      "\n",
      "Epoch 325: val_loss did not improve from 0.60967\n",
      "45/45 - 13s - 293ms/step - accuracy: 0.6915 - loss: 0.8089 - val_accuracy: 0.7950 - val_loss: 0.6292\n",
      "Epoch 326/400\n",
      "\n",
      "Epoch 326: val_loss did not improve from 0.60967\n",
      "45/45 - 13s - 289ms/step - accuracy: 0.7017 - loss: 0.7963 - val_accuracy: 0.7887 - val_loss: 0.6336\n",
      "Epoch 327/400\n",
      "\n",
      "Epoch 327: val_loss did not improve from 0.60967\n",
      "45/45 - 13s - 295ms/step - accuracy: 0.6936 - loss: 0.7888 - val_accuracy: 0.7981 - val_loss: 0.6293\n",
      "Epoch 328/400\n",
      "\n",
      "Epoch 328: val_loss did not improve from 0.60967\n",
      "45/45 - 13s - 293ms/step - accuracy: 0.6817 - loss: 0.8084 - val_accuracy: 0.7950 - val_loss: 0.6340\n",
      "Epoch 329/400\n",
      "\n",
      "Epoch 329: val_loss did not improve from 0.60967\n",
      "45/45 - 13s - 288ms/step - accuracy: 0.6873 - loss: 0.8093 - val_accuracy: 0.7825 - val_loss: 0.6492\n",
      "Epoch 330/400\n",
      "\n",
      "Epoch 330: val_loss did not improve from 0.60967\n",
      "45/45 - 13s - 290ms/step - accuracy: 0.6918 - loss: 0.7906 - val_accuracy: 0.7934 - val_loss: 0.6384\n",
      "Epoch 331/400\n",
      "\n",
      "Epoch 331: val_loss did not improve from 0.60967\n",
      "45/45 - 13s - 291ms/step - accuracy: 0.6890 - loss: 0.8004 - val_accuracy: 0.7934 - val_loss: 0.6449\n",
      "Epoch 332/400\n",
      "\n",
      "Epoch 332: val_loss did not improve from 0.60967\n",
      "45/45 - 13s - 291ms/step - accuracy: 0.6880 - loss: 0.8120 - val_accuracy: 0.7731 - val_loss: 0.6672\n",
      "Epoch 333/400\n",
      "\n",
      "Epoch 333: val_loss did not improve from 0.60967\n",
      "45/45 - 13s - 288ms/step - accuracy: 0.6901 - loss: 0.7904 - val_accuracy: 0.7840 - val_loss: 0.6544\n",
      "Epoch 334/400\n",
      "\n",
      "Epoch 334: val_loss did not improve from 0.60967\n",
      "45/45 - 13s - 289ms/step - accuracy: 0.6880 - loss: 0.7875 - val_accuracy: 0.7997 - val_loss: 0.6427\n",
      "Epoch 335/400\n",
      "\n",
      "Epoch 335: val_loss did not improve from 0.60967\n",
      "45/45 - 13s - 290ms/step - accuracy: 0.6873 - loss: 0.8066 - val_accuracy: 0.7856 - val_loss: 0.6501\n",
      "Epoch 336/400\n",
      "\n",
      "Epoch 336: val_loss did not improve from 0.60967\n",
      "45/45 - 13s - 289ms/step - accuracy: 0.6831 - loss: 0.7967 - val_accuracy: 0.7981 - val_loss: 0.6321\n",
      "Epoch 337/400\n",
      "\n",
      "Epoch 337: val_loss did not improve from 0.60967\n",
      "45/45 - 13s - 290ms/step - accuracy: 0.6978 - loss: 0.7820 - val_accuracy: 0.7809 - val_loss: 0.6467\n",
      "Epoch 338/400\n",
      "\n",
      "Epoch 338: val_loss did not improve from 0.60967\n",
      "45/45 - 13s - 292ms/step - accuracy: 0.6862 - loss: 0.8006 - val_accuracy: 0.7887 - val_loss: 0.6392\n",
      "Epoch 339/400\n",
      "\n",
      "Epoch 339: val_loss did not improve from 0.60967\n",
      "45/45 - 13s - 292ms/step - accuracy: 0.6866 - loss: 0.7910 - val_accuracy: 0.7903 - val_loss: 0.6444\n",
      "Epoch 340/400\n",
      "\n",
      "Epoch 340: val_loss did not improve from 0.60967\n",
      "45/45 - 13s - 295ms/step - accuracy: 0.6971 - loss: 0.7951 - val_accuracy: 0.7903 - val_loss: 0.6408\n",
      "Epoch 341/400\n",
      "\n",
      "Epoch 341: val_loss did not improve from 0.60967\n",
      "45/45 - 13s - 285ms/step - accuracy: 0.6964 - loss: 0.7897 - val_accuracy: 0.7825 - val_loss: 0.6524\n",
      "Epoch 342/400\n",
      "\n",
      "Epoch 342: val_loss did not improve from 0.60967\n",
      "45/45 - 13s - 289ms/step - accuracy: 0.6820 - loss: 0.7934 - val_accuracy: 0.7966 - val_loss: 0.6346\n",
      "Epoch 343/400\n",
      "\n",
      "Epoch 343: val_loss did not improve from 0.60967\n",
      "45/45 - 13s - 292ms/step - accuracy: 0.6880 - loss: 0.7826 - val_accuracy: 0.7903 - val_loss: 0.6377\n",
      "Epoch 344/400\n",
      "\n",
      "Epoch 344: val_loss did not improve from 0.60967\n",
      "45/45 - 13s - 288ms/step - accuracy: 0.6908 - loss: 0.7826 - val_accuracy: 0.7887 - val_loss: 0.6477\n",
      "Epoch 345/400\n",
      "\n",
      "Epoch 345: val_loss did not improve from 0.60967\n",
      "45/45 - 13s - 290ms/step - accuracy: 0.6989 - loss: 0.7787 - val_accuracy: 0.7809 - val_loss: 0.6369\n",
      "Epoch 346/400\n",
      "\n",
      "Epoch 346: val_loss did not improve from 0.60967\n",
      "45/45 - 13s - 291ms/step - accuracy: 0.7150 - loss: 0.7552 - val_accuracy: 0.8059 - val_loss: 0.6217\n",
      "Epoch 347/400\n",
      "\n",
      "Epoch 347: val_loss did not improve from 0.60967\n",
      "45/45 - 13s - 287ms/step - accuracy: 0.7034 - loss: 0.7888 - val_accuracy: 0.7919 - val_loss: 0.6245\n",
      "Epoch 348/400\n",
      "\n",
      "Epoch 348: val_loss did not improve from 0.60967\n",
      "45/45 - 13s - 290ms/step - accuracy: 0.6866 - loss: 0.7885 - val_accuracy: 0.7887 - val_loss: 0.6386\n",
      "Epoch 349/400\n",
      "\n",
      "Epoch 349: val_loss did not improve from 0.60967\n",
      "45/45 - 13s - 290ms/step - accuracy: 0.6961 - loss: 0.7781 - val_accuracy: 0.7981 - val_loss: 0.6358\n",
      "Epoch 350/400\n",
      "\n",
      "Epoch 350: val_loss did not improve from 0.60967\n",
      "45/45 - 13s - 291ms/step - accuracy: 0.7066 - loss: 0.7954 - val_accuracy: 0.8044 - val_loss: 0.6346\n",
      "Epoch 351/400\n",
      "\n",
      "Epoch 351: val_loss did not improve from 0.60967\n",
      "45/45 - 13s - 291ms/step - accuracy: 0.6915 - loss: 0.7872 - val_accuracy: 0.7887 - val_loss: 0.6495\n",
      "Epoch 352/400\n",
      "\n",
      "Epoch 352: val_loss did not improve from 0.60967\n",
      "45/45 - 13s - 285ms/step - accuracy: 0.7077 - loss: 0.7902 - val_accuracy: 0.7934 - val_loss: 0.6434\n",
      "Epoch 353/400\n",
      "\n",
      "Epoch 353: val_loss did not improve from 0.60967\n",
      "45/45 - 13s - 292ms/step - accuracy: 0.6876 - loss: 0.8104 - val_accuracy: 0.7919 - val_loss: 0.6466\n",
      "Epoch 354/400\n",
      "\n",
      "Epoch 354: val_loss did not improve from 0.60967\n",
      "45/45 - 13s - 285ms/step - accuracy: 0.6876 - loss: 0.7906 - val_accuracy: 0.7887 - val_loss: 0.6369\n",
      "Epoch 355/400\n",
      "\n",
      "Epoch 355: val_loss did not improve from 0.60967\n",
      "45/45 - 13s - 292ms/step - accuracy: 0.6887 - loss: 0.7873 - val_accuracy: 0.8044 - val_loss: 0.6360\n",
      "Epoch 356/400\n",
      "\n",
      "Epoch 356: val_loss did not improve from 0.60967\n",
      "45/45 - 13s - 290ms/step - accuracy: 0.6750 - loss: 0.8030 - val_accuracy: 0.7934 - val_loss: 0.6323\n",
      "Epoch 357/400\n",
      "\n",
      "Epoch 357: val_loss did not improve from 0.60967\n",
      "45/45 - 13s - 294ms/step - accuracy: 0.6933 - loss: 0.7961 - val_accuracy: 0.7981 - val_loss: 0.6373\n",
      "Epoch 358/400\n",
      "\n",
      "Epoch 358: val_loss did not improve from 0.60967\n",
      "45/45 - 13s - 289ms/step - accuracy: 0.6964 - loss: 0.7794 - val_accuracy: 0.7919 - val_loss: 0.6393\n",
      "Epoch 359/400\n",
      "\n",
      "Epoch 359: val_loss did not improve from 0.60967\n",
      "45/45 - 13s - 290ms/step - accuracy: 0.6933 - loss: 0.8066 - val_accuracy: 0.7872 - val_loss: 0.6377\n",
      "Epoch 360/400\n",
      "\n",
      "Epoch 360: val_loss did not improve from 0.60967\n",
      "45/45 - 13s - 289ms/step - accuracy: 0.6978 - loss: 0.7932 - val_accuracy: 0.7919 - val_loss: 0.6368\n",
      "Epoch 361/400\n",
      "\n",
      "Epoch 361: val_loss did not improve from 0.60967\n",
      "45/45 - 13s - 294ms/step - accuracy: 0.6845 - loss: 0.8042 - val_accuracy: 0.7872 - val_loss: 0.6420\n",
      "Epoch 362/400\n",
      "\n",
      "Epoch 362: val_loss did not improve from 0.60967\n",
      "45/45 - 13s - 291ms/step - accuracy: 0.6817 - loss: 0.8031 - val_accuracy: 0.7934 - val_loss: 0.6449\n",
      "Epoch 363/400\n",
      "\n",
      "Epoch 363: val_loss did not improve from 0.60967\n",
      "45/45 - 13s - 289ms/step - accuracy: 0.6845 - loss: 0.8045 - val_accuracy: 0.7856 - val_loss: 0.6585\n",
      "Epoch 364/400\n",
      "\n",
      "Epoch 364: val_loss did not improve from 0.60967\n",
      "45/45 - 13s - 286ms/step - accuracy: 0.6880 - loss: 0.7983 - val_accuracy: 0.7887 - val_loss: 0.6541\n",
      "Epoch 365/400\n",
      "\n",
      "Epoch 365: val_loss did not improve from 0.60967\n",
      "45/45 - 13s - 289ms/step - accuracy: 0.6824 - loss: 0.8178 - val_accuracy: 0.7919 - val_loss: 0.6443\n",
      "Epoch 366/400\n",
      "\n",
      "Epoch 366: val_loss did not improve from 0.60967\n",
      "45/45 - 13s - 293ms/step - accuracy: 0.6880 - loss: 0.8077 - val_accuracy: 0.7887 - val_loss: 0.6449\n",
      "Epoch 367/400\n",
      "\n",
      "Epoch 367: val_loss did not improve from 0.60967\n",
      "45/45 - 13s - 283ms/step - accuracy: 0.6933 - loss: 0.7969 - val_accuracy: 0.7966 - val_loss: 0.6407\n",
      "Epoch 368/400\n",
      "\n",
      "Epoch 368: val_loss did not improve from 0.60967\n",
      "45/45 - 13s - 291ms/step - accuracy: 0.6859 - loss: 0.7968 - val_accuracy: 0.7997 - val_loss: 0.6360\n",
      "Epoch 369/400\n",
      "\n",
      "Epoch 369: val_loss did not improve from 0.60967\n",
      "45/45 - 13s - 294ms/step - accuracy: 0.6869 - loss: 0.8101 - val_accuracy: 0.7872 - val_loss: 0.6466\n",
      "Epoch 370/400\n",
      "\n",
      "Epoch 370: val_loss did not improve from 0.60967\n",
      "45/45 - 13s - 287ms/step - accuracy: 0.6918 - loss: 0.7931 - val_accuracy: 0.7872 - val_loss: 0.6550\n",
      "Epoch 371/400\n",
      "\n",
      "Epoch 371: val_loss did not improve from 0.60967\n",
      "45/45 - 13s - 288ms/step - accuracy: 0.7056 - loss: 0.7699 - val_accuracy: 0.7731 - val_loss: 0.6701\n",
      "Epoch 372/400\n",
      "\n",
      "Epoch 372: val_loss did not improve from 0.60967\n",
      "45/45 - 13s - 296ms/step - accuracy: 0.6901 - loss: 0.8036 - val_accuracy: 0.7903 - val_loss: 0.6530\n",
      "Epoch 373/400\n",
      "\n",
      "Epoch 373: val_loss did not improve from 0.60967\n",
      "45/45 - 13s - 292ms/step - accuracy: 0.6947 - loss: 0.7810 - val_accuracy: 0.7840 - val_loss: 0.6571\n",
      "Epoch 374/400\n",
      "\n",
      "Epoch 374: val_loss did not improve from 0.60967\n",
      "45/45 - 13s - 286ms/step - accuracy: 0.6957 - loss: 0.8033 - val_accuracy: 0.7903 - val_loss: 0.6475\n",
      "Epoch 375/400\n",
      "\n",
      "Epoch 375: val_loss did not improve from 0.60967\n",
      "45/45 - 13s - 288ms/step - accuracy: 0.6880 - loss: 0.7982 - val_accuracy: 0.7919 - val_loss: 0.6489\n",
      "Epoch 376/400\n",
      "\n",
      "Epoch 376: val_loss did not improve from 0.60967\n",
      "45/45 - 13s - 293ms/step - accuracy: 0.6880 - loss: 0.7896 - val_accuracy: 0.7934 - val_loss: 0.6429\n",
      "Epoch 377/400\n",
      "\n",
      "Epoch 377: val_loss did not improve from 0.60967\n",
      "45/45 - 13s - 292ms/step - accuracy: 0.6915 - loss: 0.7828 - val_accuracy: 0.7934 - val_loss: 0.6464\n",
      "Epoch 378/400\n",
      "\n",
      "Epoch 378: val_loss did not improve from 0.60967\n",
      "45/45 - 13s - 288ms/step - accuracy: 0.6936 - loss: 0.7882 - val_accuracy: 0.7903 - val_loss: 0.6493\n",
      "Epoch 379/400\n",
      "\n",
      "Epoch 379: val_loss did not improve from 0.60967\n",
      "45/45 - 13s - 291ms/step - accuracy: 0.6859 - loss: 0.7818 - val_accuracy: 0.7887 - val_loss: 0.6434\n",
      "Epoch 380/400\n",
      "\n",
      "Epoch 380: val_loss did not improve from 0.60967\n",
      "45/45 - 13s - 295ms/step - accuracy: 0.6806 - loss: 0.8068 - val_accuracy: 0.7981 - val_loss: 0.6398\n",
      "Epoch 381/400\n",
      "\n",
      "Epoch 381: val_loss did not improve from 0.60967\n",
      "45/45 - 13s - 289ms/step - accuracy: 0.6940 - loss: 0.8093 - val_accuracy: 0.7966 - val_loss: 0.6389\n",
      "Epoch 382/400\n",
      "\n",
      "Epoch 382: val_loss did not improve from 0.60967\n",
      "45/45 - 13s - 286ms/step - accuracy: 0.6982 - loss: 0.7936 - val_accuracy: 0.7856 - val_loss: 0.6335\n",
      "Epoch 383/400\n",
      "\n",
      "Epoch 383: val_loss did not improve from 0.60967\n",
      "45/45 - 13s - 289ms/step - accuracy: 0.6950 - loss: 0.7993 - val_accuracy: 0.7981 - val_loss: 0.6405\n",
      "Epoch 384/400\n",
      "\n",
      "Epoch 384: val_loss did not improve from 0.60967\n",
      "45/45 - 13s - 287ms/step - accuracy: 0.6883 - loss: 0.8076 - val_accuracy: 0.7966 - val_loss: 0.6414\n",
      "Epoch 385/400\n",
      "\n",
      "Epoch 385: val_loss did not improve from 0.60967\n",
      "45/45 - 13s - 289ms/step - accuracy: 0.6876 - loss: 0.7935 - val_accuracy: 0.7887 - val_loss: 0.6411\n",
      "Epoch 386/400\n",
      "\n",
      "Epoch 386: val_loss did not improve from 0.60967\n",
      "45/45 - 13s - 285ms/step - accuracy: 0.7027 - loss: 0.7801 - val_accuracy: 0.8028 - val_loss: 0.6348\n",
      "Epoch 387/400\n",
      "\n",
      "Epoch 387: val_loss did not improve from 0.60967\n",
      "45/45 - 13s - 289ms/step - accuracy: 0.6911 - loss: 0.7908 - val_accuracy: 0.8013 - val_loss: 0.6317\n",
      "Epoch 388/400\n",
      "\n",
      "Epoch 388: val_loss did not improve from 0.60967\n",
      "45/45 - 13s - 295ms/step - accuracy: 0.6971 - loss: 0.7678 - val_accuracy: 0.7966 - val_loss: 0.6449\n",
      "Epoch 389/400\n",
      "\n",
      "Epoch 389: val_loss did not improve from 0.60967\n",
      "45/45 - 13s - 293ms/step - accuracy: 0.7059 - loss: 0.7765 - val_accuracy: 0.8075 - val_loss: 0.6346\n",
      "Epoch 390/400\n",
      "\n",
      "Epoch 390: val_loss did not improve from 0.60967\n",
      "45/45 - 13s - 292ms/step - accuracy: 0.6831 - loss: 0.7948 - val_accuracy: 0.8122 - val_loss: 0.6289\n",
      "Epoch 391/400\n",
      "\n",
      "Epoch 391: val_loss did not improve from 0.60967\n",
      "45/45 - 13s - 290ms/step - accuracy: 0.6922 - loss: 0.7902 - val_accuracy: 0.7934 - val_loss: 0.6338\n",
      "Epoch 392/400\n",
      "\n",
      "Epoch 392: val_loss did not improve from 0.60967\n",
      "45/45 - 13s - 287ms/step - accuracy: 0.6975 - loss: 0.7835 - val_accuracy: 0.8044 - val_loss: 0.6249\n",
      "Epoch 393/400\n",
      "\n",
      "Epoch 393: val_loss did not improve from 0.60967\n",
      "45/45 - 13s - 284ms/step - accuracy: 0.6876 - loss: 0.7903 - val_accuracy: 0.7919 - val_loss: 0.6538\n",
      "Epoch 394/400\n",
      "\n",
      "Epoch 394: val_loss did not improve from 0.60967\n",
      "45/45 - 13s - 283ms/step - accuracy: 0.6855 - loss: 0.8092 - val_accuracy: 0.7919 - val_loss: 0.6479\n",
      "Epoch 395/400\n",
      "\n",
      "Epoch 395: val_loss did not improve from 0.60967\n",
      "45/45 - 13s - 290ms/step - accuracy: 0.7010 - loss: 0.7974 - val_accuracy: 0.8059 - val_loss: 0.6338\n",
      "Epoch 396/400\n",
      "\n",
      "Epoch 396: val_loss did not improve from 0.60967\n",
      "45/45 - 13s - 291ms/step - accuracy: 0.7013 - loss: 0.7631 - val_accuracy: 0.8091 - val_loss: 0.6176\n",
      "Epoch 397/400\n",
      "\n",
      "Epoch 397: val_loss did not improve from 0.60967\n",
      "45/45 - 13s - 290ms/step - accuracy: 0.6933 - loss: 0.8070 - val_accuracy: 0.8059 - val_loss: 0.6203\n",
      "Epoch 398/400\n",
      "\n",
      "Epoch 398: val_loss did not improve from 0.60967\n",
      "45/45 - 13s - 291ms/step - accuracy: 0.6901 - loss: 0.8057 - val_accuracy: 0.8075 - val_loss: 0.6252\n",
      "Epoch 399/400\n",
      "\n",
      "Epoch 399: val_loss did not improve from 0.60967\n",
      "45/45 - 13s - 288ms/step - accuracy: 0.6901 - loss: 0.8072 - val_accuracy: 0.7934 - val_loss: 0.6385\n",
      "Epoch 400/400\n",
      "\n",
      "Epoch 400: val_loss did not improve from 0.60967\n",
      "45/45 - 13s - 288ms/step - accuracy: 0.6904 - loss: 0.8109 - val_accuracy: 0.7903 - val_loss: 0.6448\n"
     ]
    }
   ],
   "source": [
    "# without eager execution this takes much longer to train..\n",
    "fittedModel = model.fit(train_data, train_label, batch_size = 64, epochs = 400, \n",
    "                        verbose = 2, validation_data=(valid_data, valid_label),\n",
    "                        callbacks=[checkpointer], class_weight = class_weights)"
   ]
  },
  {
   "cell_type": "code",
   "execution_count": 12,
   "metadata": {},
   "outputs": [
    {
     "data": {
      "image/png": "[encoded data removed]",
      "text/plain": [
       "<Figure size 1200x500 with 2 Axes>"
      ]
     },
     "metadata": {},
     "output_type": "display_data"
    }
   ],
   "source": [
    "# Plot training history\n",
    "plt.figure(figsize=(12, 5))\n",
    "\n",
    "# Accuracy\n",
    "plt.subplot(1, 2, 1)\n",
    "plt.plot(fittedModel.history['accuracy'], label='Train Accuracy')\n",
    "plt.plot(fittedModel.history['val_accuracy'], label='Validation Accuracy')\n",
    "plt.xlabel('Epochs')\n",
    "plt.ylabel('Accuracy')\n",
    "plt.title('Model Accuracy')\n",
    "plt.legend()\n",
    "plt.grid(True)\n",
    "\n",
    "# Loss\n",
    "plt.subplot(1, 2, 2)\n",
    "plt.plot(fittedModel.history['loss'], label='Train Loss')\n",
    "plt.plot(fittedModel.history['val_loss'], label='Validation Loss')\n",
    "plt.xlabel('Epochs')\n",
    "plt.ylabel('Loss')\n",
    "plt.title('Model Loss')\n",
    "plt.legend()\n",
    "plt.grid(True)\n",
    "\n",
    "plt.tight_layout()\n",
    "plt.show()"
   ]
  },
  {
   "cell_type": "code",
   "execution_count": 13,
   "metadata": {},
   "outputs": [
    {
     "name": "stdout",
     "output_type": "stream",
     "text": [
      "\u001b[1m20/20\u001b[0m \u001b[32m━━━━━━━━━━━━━━━━━━━━\u001b[0m\u001b[37m\u001b[0m \u001b[1m0s\u001b[0m 21ms/step\n"
     ]
    }
   ],
   "source": [
    "model.load_weights('/tmp/checkpoint.h5')\n",
    "preds = model.predict(valid_data)"
   ]
  },
  {
   "cell_type": "code",
   "execution_count": 16,
   "metadata": {},
   "outputs": [
    {
     "data": {
      "text/plain": [
       "0.8015226784917244"
      ]
     },
     "execution_count": 16,
     "metadata": {},
     "output_type": "execute_result"
    }
   ],
   "source": [
    "from sklearn.metrics import balanced_accuracy_score\n",
    "balanced_accuracy_score(np.argmax(valid_label, axis=1), np.argmax(preds, axis=1))"
   ]
  },
  {
   "cell_type": "code",
   "execution_count": 17,
   "metadata": {},
   "outputs": [
    {
     "data": {
      "image/png": "[encoded data removed]",
      "text/plain": [
       "<Figure size 1200x400 with 8 Axes>"
      ]
     },
     "metadata": {},
     "output_type": "display_data"
    }
   ],
   "source": [
    "filters = np.squeeze(model.layers[2].get_weights())\n",
    "\n",
    "fig = plt.subplots(2, 4, figsize=(12, 4))\n",
    "\n",
    "for i in range(1, 9):\n",
    "    plt.subplot(2, 4, i)\n",
    "    plt.plot(filters[:, i-1])\n",
    "    plt.title(f'Temporal Filter {i}')\n",
    "    \n",
    "plt.tight_layout()"
   ]
  },
  {
   "cell_type": "code",
   "execution_count": 18,
   "metadata": {},
   "outputs": [
    {
     "data": {
      "image/png": "[encoded data removed]",
      "text/plain": [
       "<Figure size 800x1200 with 32 Axes>"
      ]
     },
     "metadata": {},
     "output_type": "display_data"
    }
   ],
   "source": [
    "filters = np.squeeze(model.layers[4].get_weights())\n",
    "\n",
    "fig = plt.subplots(8, 4, figsize=(8, 12))\n",
    "\n",
    "i = 1\n",
    "for j in range(8):\n",
    "    for k in range(4):\n",
    "        plt.subplot(8, 4, i)\n",
    "        plt.plot(filters[:, j, k])\n",
    "        plt.title(f'T. Filter  {j+1}, S. Filter {k+1}')\n",
    "        i = i + 1\n",
    "    \n",
    "plt.tight_layout()"
   ]
  },
  {
   "cell_type": "code",
   "execution_count": null,
   "metadata": {},
   "outputs": [],
   "source": []
  },
  {
   "cell_type": "code",
   "execution_count": null,
   "metadata": {},
   "outputs": [],
   "source": []
  }
 ],
 "metadata": {
  "kernelspec": {
   "display_name": "fmri_env",
   "language": "python",
   "name": "python3"
  },
  "language_info": {
   "codemirror_mode": {
    "name": "ipython",
    "version": 3
   },
   "file_extension": ".py",
   "mimetype": "text/x-python",
   "name": "python",
   "nbconvert_exporter": "python",
   "pygments_lexer": "ipython3",
   "version": "3.10.18"
  },
  "widgets": {
   "application/vnd.jupyter.widget-state+json": {
    "state": {},
    "version_major": 2,
    "version_minor": 0
   }
  }
 },
 "nbformat": 4,
 "nbformat_minor": 4
}
